{
  "nbformat": 4,
  "nbformat_minor": 0,
  "metadata": {
    "colab": {
      "name": "Day5session5.ipynb",
      "provenance": [],
      "authorship_tag": "ABX9TyMYj7tW1XHnb7Q1XTw9HyFE",
      "include_colab_link": true
    },
    "kernelspec": {
      "name": "python3",
      "display_name": "Python 3"
    },
    "language_info": {
      "name": "python"
    }
  },
  "cells": [
    {
      "cell_type": "markdown",
      "metadata": {
        "id": "view-in-github",
        "colab_type": "text"
      },
      "source": [
        "<a href=\"https://colab.research.google.com/github/SeemaTabassum/INTERNSOFT/blob/main/Day5session5.ipynb\" target=\"_parent\"><img src=\"https://colab.research.google.com/assets/colab-badge.svg\" alt=\"Open In Colab\"/></a>"
      ]
    },
    {
      "cell_type": "code",
      "metadata": {
        "id": "iUfmo0mPzi8r"
      },
      "source": [
        "# import the library\n",
        "import math"
      ],
      "execution_count": null,
      "outputs": []
    },
    {
      "cell_type": "code",
      "metadata": {
        "colab": {
          "base_uri": "https://localhost:8080/"
        },
        "id": "iWNrTw220oqB",
        "outputId": "3fd8adc7-8cdd-4033-c473-5af0e356ac30"
      },
      "source": [
        "# use it (ceiling rounding)\n",
        "math.ceil(2.4)"
      ],
      "execution_count": null,
      "outputs": [
        {
          "output_type": "execute_result",
          "data": {
            "text/plain": [
              "3"
            ]
          },
          "metadata": {
            "tags": []
          },
          "execution_count": 2
        }
      ]
    },
    {
      "cell_type": "code",
      "metadata": {
        "colab": {
          "base_uri": "https://localhost:8080/"
        },
        "id": "9BL6jvU84QzA",
        "outputId": "15a23f87-82fc-428f-b632-9f6d2ca94772"
      },
      "source": [
        "print(dir(math))"
      ],
      "execution_count": null,
      "outputs": [
        {
          "output_type": "stream",
          "text": [
            "['__doc__', '__loader__', '__name__', '__package__', '__spec__', 'acos', 'acosh', 'asin', 'asinh', 'atan', 'atan2', 'atanh', 'ceil', 'copysign', 'cos', 'cosh', 'degrees', 'e', 'erf', 'erfc', 'exp', 'expm1', 'fabs', 'factorial', 'floor', 'fmod', 'frexp', 'fsum', 'gamma', 'gcd', 'hypot', 'inf', 'isclose', 'isfinite', 'isinf', 'isnan', 'ldexp', 'lgamma', 'log', 'log10', 'log1p', 'log2', 'modf', 'nan', 'pi', 'pow', 'radians', 'remainder', 'sin', 'sinh', 'sqrt', 'tan', 'tanh', 'tau', 'trunc']\n"
          ],
          "name": "stdout"
        }
      ]
    },
    {
      "cell_type": "code",
      "metadata": {
        "colab": {
          "base_uri": "https://localhost:8080/"
        },
        "id": "4X4bPSjs5BAv",
        "outputId": "87ff7198-35cb-4d96-98cd-16a258ec5911"
      },
      "source": [
        "help(math.ceil)"
      ],
      "execution_count": null,
      "outputs": [
        {
          "output_type": "stream",
          "text": [
            "Help on built-in function ceil in module math:\n",
            "\n",
            "ceil(x, /)\n",
            "    Return the ceiling of x as an Integral.\n",
            "    \n",
            "    This is the smallest integer >= x.\n",
            "\n"
          ],
          "name": "stdout"
        }
      ]
    },
    {
      "cell_type": "code",
      "metadata": {
        "colab": {
          "base_uri": "https://localhost:8080/"
        },
        "id": "yW2XO_MX5CBY",
        "outputId": "be4f691b-18c4-4f3f-df39-e76d94feaf30"
      },
      "source": [
        "help(math.gcd)"
      ],
      "execution_count": null,
      "outputs": [
        {
          "output_type": "stream",
          "text": [
            "Help on built-in function gcd in module math:\n",
            "\n",
            "gcd(x, y, /)\n",
            "    greatest common divisor of x and y\n",
            "\n"
          ],
          "name": "stdout"
        }
      ]
    },
    {
      "cell_type": "code",
      "metadata": {
        "colab": {
          "base_uri": "https://localhost:8080/",
          "height": 313
        },
        "id": "OuuTR_fL8H6K",
        "outputId": "0028cae3-da92-4455-f75d-4eef3e4e409f"
      },
      "source": [
        "# Just an example, this won't work\n",
        "import foo.bar"
      ],
      "execution_count": null,
      "outputs": [
        {
          "output_type": "error",
          "ename": "ModuleNotFoundError",
          "evalue": "ignored",
          "traceback": [
            "\u001b[0;31m---------------------------------------------------------------------------\u001b[0m",
            "\u001b[0;31mModuleNotFoundError\u001b[0m                       Traceback (most recent call last)",
            "\u001b[0;32m<ipython-input-6-0ab3de8fa44b>\u001b[0m in \u001b[0;36m<module>\u001b[0;34m()\u001b[0m\n\u001b[1;32m      1\u001b[0m \u001b[0;31m# Just an example, this won't work\u001b[0m\u001b[0;34m\u001b[0m\u001b[0;34m\u001b[0m\u001b[0;34m\u001b[0m\u001b[0m\n\u001b[0;32m----> 2\u001b[0;31m \u001b[0;32mimport\u001b[0m \u001b[0mfoo\u001b[0m\u001b[0;34m.\u001b[0m\u001b[0mbar\u001b[0m\u001b[0;34m\u001b[0m\u001b[0;34m\u001b[0m\u001b[0m\n\u001b[0m",
            "\u001b[0;31mModuleNotFoundError\u001b[0m: No module named 'foo'",
            "",
            "\u001b[0;31m---------------------------------------------------------------------------\u001b[0;32m\nNOTE: If your import is failing due to a missing package, you can\nmanually install dependencies using either !pip or !apt.\n\nTo view examples of installing some common dependencies, click the\n\"Open Examples\" button below.\n\u001b[0;31m---------------------------------------------------------------------------\u001b[0m\n"
          ]
        }
      ]
    },
    {
      "cell_type": "code",
      "metadata": {
        "colab": {
          "base_uri": "https://localhost:8080/",
          "height": 313
        },
        "id": "2H7NQ84s8O7W",
        "outputId": "38a93a46-35fe-4397-bfcf-9817facd9ec8"
      },
      "source": [
        "# OR could do it this way\n",
        "from foo import bar"
      ],
      "execution_count": null,
      "outputs": [
        {
          "output_type": "error",
          "ename": "ModuleNotFoundError",
          "evalue": "ignored",
          "traceback": [
            "\u001b[0;31m---------------------------------------------------------------------------\u001b[0m",
            "\u001b[0;31mModuleNotFoundError\u001b[0m                       Traceback (most recent call last)",
            "\u001b[0;32m<ipython-input-7-dc56cf554081>\u001b[0m in \u001b[0;36m<module>\u001b[0;34m()\u001b[0m\n\u001b[1;32m      1\u001b[0m \u001b[0;31m# OR could do it this way\u001b[0m\u001b[0;34m\u001b[0m\u001b[0;34m\u001b[0m\u001b[0;34m\u001b[0m\u001b[0m\n\u001b[0;32m----> 2\u001b[0;31m \u001b[0;32mfrom\u001b[0m \u001b[0mfoo\u001b[0m \u001b[0;32mimport\u001b[0m \u001b[0mbar\u001b[0m\u001b[0;34m\u001b[0m\u001b[0;34m\u001b[0m\u001b[0m\n\u001b[0m",
            "\u001b[0;31mModuleNotFoundError\u001b[0m: No module named 'foo'",
            "",
            "\u001b[0;31m---------------------------------------------------------------------------\u001b[0;32m\nNOTE: If your import is failing due to a missing package, you can\nmanually install dependencies using either !pip or !apt.\n\nTo view examples of installing some common dependencies, click the\n\"Open Examples\" button below.\n\u001b[0;31m---------------------------------------------------------------------------\u001b[0m\n"
          ]
        }
      ]
    },
    {
      "cell_type": "code",
      "metadata": {
        "colab": {
          "base_uri": "https://localhost:8080/",
          "height": 128
        },
        "id": "tWQvpDHV8a85",
        "outputId": "0505235d-c121-4e61-ed6b-5c5acea37920"
      },
      "source": [
        "__init__.py:\n",
        "\n",
        "__all__ = [\"bar\"]"
      ],
      "execution_count": null,
      "outputs": [
        {
          "output_type": "error",
          "ename": "SyntaxError",
          "evalue": "ignored",
          "traceback": [
            "\u001b[0;36m  File \u001b[0;32m\"<ipython-input-8-45d8bf1c62c0>\"\u001b[0;36m, line \u001b[0;32m1\u001b[0m\n\u001b[0;31m    __init__.py:\u001b[0m\n\u001b[0m                ^\u001b[0m\n\u001b[0;31mSyntaxError\u001b[0m\u001b[0;31m:\u001b[0m invalid syntax\n"
          ]
        }
      ]
    },
    {
      "cell_type": "code",
      "metadata": {
        "id": "zK9SeuBf-yFn",
        "colab": {
          "base_uri": "https://localhost:8080/"
        },
        "outputId": "4e7a5a93-64e0-4740-9972-16ea7988ed3b"
      },
      "source": [
        "try:\n",
        "    f = open('testfile','w')\n",
        "    f.write('Test write this')\n",
        "except IOError:\n",
        "    # This will only check for an IOError exception and then execute this print statement\n",
        "   print(\"Error: Could not find file or read data\")\n",
        "else:\n",
        "   print(\"Content written successfully\")\n",
        "   f.close()"
      ],
      "execution_count": null,
      "outputs": [
        {
          "output_type": "stream",
          "text": [
            "Content written successfully\n"
          ],
          "name": "stdout"
        }
      ]
    },
    {
      "cell_type": "code",
      "metadata": {
        "colab": {
          "base_uri": "https://localhost:8080/"
        },
        "id": "XCoIUlj_Vheb",
        "outputId": "81167ff3-2ea4-472c-c944-c08e1fc88b31"
      },
      "source": [
        "try:\n",
        "    f = open('testfile','r')\n",
        "    f.write('Test write this')\n",
        "except IOError:\n",
        "    # This will only check for an IOError exception and then execute this print statement\n",
        "   print(\"Error: Could not find file or read data\")\n",
        "else:\n",
        "   print(\"Content written successfully\")\n",
        "   f.close()"
      ],
      "execution_count": 1,
      "outputs": [
        {
          "output_type": "stream",
          "text": [
            "Error: Could not find file or read data\n"
          ],
          "name": "stdout"
        }
      ]
    },
    {
      "cell_type": "code",
      "metadata": {
        "colab": {
          "base_uri": "https://localhost:8080/"
        },
        "id": "5kJ6UqT1VvL6",
        "outputId": "40e240bd-e0f2-4986-c8f9-d0a2fd85f712"
      },
      "source": [
        "try:\n",
        "    f = open('testfile','w')\n",
        "    f.write('Test write this')\n",
        "except:\n",
        "    # This will check for any exception and then execute this print statement\n",
        "   print(\"Error: Could not find file or read data\")\n",
        "else:\n",
        "   print(\"Content written successfully\")\n",
        "   f.close()"
      ],
      "execution_count": 2,
      "outputs": [
        {
          "output_type": "stream",
          "text": [
            "Content written successfully\n"
          ],
          "name": "stdout"
        }
      ]
    },
    {
      "cell_type": "code",
      "metadata": {
        "colab": {
          "base_uri": "https://localhost:8080/"
        },
        "id": "lWlw_7tqWGFU",
        "outputId": "ed9e0a39-1ce9-4f5a-f277-b20fb40882a8"
      },
      "source": [
        "try:\n",
        "   f = open(\"testfile\", \"w\")\n",
        "   f.write(\"Test write statement\")\n",
        "finally:\n",
        "   print(\"Always execute finally code blocks\")"
      ],
      "execution_count": 3,
      "outputs": [
        {
          "output_type": "stream",
          "text": [
            "Always execute finally code blocks\n"
          ],
          "name": "stdout"
        }
      ]
    },
    {
      "cell_type": "code",
      "metadata": {
        "id": "d1jlAs_TWOib"
      },
      "source": [
        "def askint():\n",
        "        try:\n",
        "            val = int(input(\"Please enter an integer: \"))\n",
        "        except:\n",
        "            print(\"Looks like you did not enter an integer!\")\n",
        "            \n",
        "        finally:\n",
        "            print(\"Finally, I executed!\")\n",
        "        print(val)       "
      ],
      "execution_count": 4,
      "outputs": []
    },
    {
      "cell_type": "code",
      "metadata": {
        "colab": {
          "base_uri": "https://localhost:8080/"
        },
        "id": "MU4JzhV-WQ0M",
        "outputId": "e822bdc4-a326-4498-a6d1-af10cbcdd855"
      },
      "source": [
        "askint()"
      ],
      "execution_count": 5,
      "outputs": [
        {
          "output_type": "stream",
          "text": [
            "Please enter an integer: 10\n",
            "Finally, I executed!\n",
            "10\n"
          ],
          "name": "stdout"
        }
      ]
    },
    {
      "cell_type": "code",
      "metadata": {
        "colab": {
          "base_uri": "https://localhost:8080/"
        },
        "id": "yHOjPDB5WZPw",
        "outputId": "6f5301f5-0992-4507-85ff-0712a96a4ae7"
      },
      "source": [
        "askint()"
      ],
      "execution_count": 6,
      "outputs": [
        {
          "output_type": "stream",
          "text": [
            "Please enter an integer: 456\n",
            "Finally, I executed!\n",
            "456\n"
          ],
          "name": "stdout"
        }
      ]
    },
    {
      "cell_type": "code",
      "metadata": {
        "colab": {
          "base_uri": "https://localhost:8080/",
          "height": 296
        },
        "id": "GcW9wMYeWieO",
        "outputId": "b3092429-12b5-4225-e9bb-bb46a9d6af07"
      },
      "source": [
        "askint()"
      ],
      "execution_count": 7,
      "outputs": [
        {
          "output_type": "stream",
          "text": [
            "Please enter an integer: abc\n",
            "Looks like you did not enter an integer!\n",
            "Finally, I executed!\n"
          ],
          "name": "stdout"
        },
        {
          "output_type": "error",
          "ename": "UnboundLocalError",
          "evalue": "ignored",
          "traceback": [
            "\u001b[0;31m---------------------------------------------------------------------------\u001b[0m",
            "\u001b[0;31mUnboundLocalError\u001b[0m                         Traceback (most recent call last)",
            "\u001b[0;32m<ipython-input-7-cc291aa76c10>\u001b[0m in \u001b[0;36m<module>\u001b[0;34m()\u001b[0m\n\u001b[0;32m----> 1\u001b[0;31m \u001b[0maskint\u001b[0m\u001b[0;34m(\u001b[0m\u001b[0;34m)\u001b[0m\u001b[0;34m\u001b[0m\u001b[0;34m\u001b[0m\u001b[0m\n\u001b[0m",
            "\u001b[0;32m<ipython-input-4-1b367de9a831>\u001b[0m in \u001b[0;36maskint\u001b[0;34m()\u001b[0m\n\u001b[1;32m      7\u001b[0m         \u001b[0;32mfinally\u001b[0m\u001b[0;34m:\u001b[0m\u001b[0;34m\u001b[0m\u001b[0;34m\u001b[0m\u001b[0m\n\u001b[1;32m      8\u001b[0m             \u001b[0mprint\u001b[0m\u001b[0;34m(\u001b[0m\u001b[0;34m\"Finally, I executed!\"\u001b[0m\u001b[0;34m)\u001b[0m\u001b[0;34m\u001b[0m\u001b[0;34m\u001b[0m\u001b[0m\n\u001b[0;32m----> 9\u001b[0;31m         \u001b[0mprint\u001b[0m\u001b[0;34m(\u001b[0m\u001b[0mval\u001b[0m\u001b[0;34m)\u001b[0m\u001b[0;34m\u001b[0m\u001b[0;34m\u001b[0m\u001b[0m\n\u001b[0m",
            "\u001b[0;31mUnboundLocalError\u001b[0m: local variable 'val' referenced before assignment"
          ]
        }
      ]
    },
    {
      "cell_type": "code",
      "metadata": {
        "id": "_VNQawp3Wpdo"
      },
      "source": [
        "def askint():\n",
        "        try:\n",
        "            val = int(input(\"Please enter an integer: \"))\n",
        "        except:\n",
        "            print(\"Looks like you did not enter an integer!\")\n",
        "            val = int(input(\"Try again-Please enter an integer: \"))\n",
        "        finally:\n",
        "            print(\"Finally, I executed!\")\n",
        "        print(val) "
      ],
      "execution_count": 8,
      "outputs": []
    },
    {
      "cell_type": "code",
      "metadata": {
        "colab": {
          "base_uri": "https://localhost:8080/"
        },
        "id": "Agj7HXXkWqzT",
        "outputId": "171a0f52-b9dd-4867-8f1f-0898e929b6c0"
      },
      "source": [
        "askint()"
      ],
      "execution_count": 9,
      "outputs": [
        {
          "output_type": "stream",
          "text": [
            "Please enter an integer: 123\n",
            "Finally, I executed!\n",
            "123\n"
          ],
          "name": "stdout"
        }
      ]
    },
    {
      "cell_type": "code",
      "metadata": {
        "colab": {
          "base_uri": "https://localhost:8080/",
          "height": 488
        },
        "id": "723FRAUdWwfY",
        "outputId": "04f39a6a-4499-4b4a-d27a-5eab6ecd9e0e"
      },
      "source": [
        "askint()"
      ],
      "execution_count": 10,
      "outputs": [
        {
          "output_type": "stream",
          "text": [
            "Please enter an integer: abcd\n",
            "Looks like you did not enter an integer!\n",
            "Try again-Please enter an integer: abc\n",
            "Finally, I executed!\n"
          ],
          "name": "stdout"
        },
        {
          "output_type": "error",
          "ename": "ValueError",
          "evalue": "ignored",
          "traceback": [
            "\u001b[0;31m---------------------------------------------------------------------------\u001b[0m",
            "\u001b[0;31mValueError\u001b[0m                                Traceback (most recent call last)",
            "\u001b[0;32m<ipython-input-8-ed16a7994e8f>\u001b[0m in \u001b[0;36maskint\u001b[0;34m()\u001b[0m\n\u001b[1;32m      2\u001b[0m         \u001b[0;32mtry\u001b[0m\u001b[0;34m:\u001b[0m\u001b[0;34m\u001b[0m\u001b[0;34m\u001b[0m\u001b[0m\n\u001b[0;32m----> 3\u001b[0;31m             \u001b[0mval\u001b[0m \u001b[0;34m=\u001b[0m \u001b[0mint\u001b[0m\u001b[0;34m(\u001b[0m\u001b[0minput\u001b[0m\u001b[0;34m(\u001b[0m\u001b[0;34m\"Please enter an integer: \"\u001b[0m\u001b[0;34m)\u001b[0m\u001b[0;34m)\u001b[0m\u001b[0;34m\u001b[0m\u001b[0;34m\u001b[0m\u001b[0m\n\u001b[0m\u001b[1;32m      4\u001b[0m         \u001b[0;32mexcept\u001b[0m\u001b[0;34m:\u001b[0m\u001b[0;34m\u001b[0m\u001b[0;34m\u001b[0m\u001b[0m\n",
            "\u001b[0;31mValueError\u001b[0m: invalid literal for int() with base 10: 'abcd'",
            "\nDuring handling of the above exception, another exception occurred:\n",
            "\u001b[0;31mValueError\u001b[0m                                Traceback (most recent call last)",
            "\u001b[0;32m<ipython-input-10-cc291aa76c10>\u001b[0m in \u001b[0;36m<module>\u001b[0;34m()\u001b[0m\n\u001b[0;32m----> 1\u001b[0;31m \u001b[0maskint\u001b[0m\u001b[0;34m(\u001b[0m\u001b[0;34m)\u001b[0m\u001b[0;34m\u001b[0m\u001b[0;34m\u001b[0m\u001b[0m\n\u001b[0m",
            "\u001b[0;32m<ipython-input-8-ed16a7994e8f>\u001b[0m in \u001b[0;36maskint\u001b[0;34m()\u001b[0m\n\u001b[1;32m      4\u001b[0m         \u001b[0;32mexcept\u001b[0m\u001b[0;34m:\u001b[0m\u001b[0;34m\u001b[0m\u001b[0;34m\u001b[0m\u001b[0m\n\u001b[1;32m      5\u001b[0m             \u001b[0mprint\u001b[0m\u001b[0;34m(\u001b[0m\u001b[0;34m\"Looks like you did not enter an integer!\"\u001b[0m\u001b[0;34m)\u001b[0m\u001b[0;34m\u001b[0m\u001b[0;34m\u001b[0m\u001b[0m\n\u001b[0;32m----> 6\u001b[0;31m             \u001b[0mval\u001b[0m \u001b[0;34m=\u001b[0m \u001b[0mint\u001b[0m\u001b[0;34m(\u001b[0m\u001b[0minput\u001b[0m\u001b[0;34m(\u001b[0m\u001b[0;34m\"Try again-Please enter an integer: \"\u001b[0m\u001b[0;34m)\u001b[0m\u001b[0;34m)\u001b[0m\u001b[0;34m\u001b[0m\u001b[0;34m\u001b[0m\u001b[0m\n\u001b[0m\u001b[1;32m      7\u001b[0m         \u001b[0;32mfinally\u001b[0m\u001b[0;34m:\u001b[0m\u001b[0;34m\u001b[0m\u001b[0;34m\u001b[0m\u001b[0m\n\u001b[1;32m      8\u001b[0m             \u001b[0mprint\u001b[0m\u001b[0;34m(\u001b[0m\u001b[0;34m\"Finally, I executed!\"\u001b[0m\u001b[0;34m)\u001b[0m\u001b[0;34m\u001b[0m\u001b[0;34m\u001b[0m\u001b[0m\n",
            "\u001b[0;31mValueError\u001b[0m: invalid literal for int() with base 10: 'abc'"
          ]
        }
      ]
    },
    {
      "cell_type": "code",
      "metadata": {
        "id": "AesekaZWXAQo"
      },
      "source": [
        "def askint():\n",
        "    while True:\n",
        "        try:\n",
        "            val = int(input(\"Please enter an integer: \"))\n",
        "        except:\n",
        "            print(\"Looks like you did not enter an integer!\")\n",
        "            continue\n",
        "        else:\n",
        "            print('Yep thats an integer!')\n",
        "            break\n",
        "        finally:\n",
        "            print(\"Finally, I executed!\")\n",
        "        print(val) "
      ],
      "execution_count": 11,
      "outputs": []
    },
    {
      "cell_type": "code",
      "metadata": {
        "colab": {
          "base_uri": "https://localhost:8080/"
        },
        "id": "Z09m5953XCT5",
        "outputId": "a7c95f6c-dd6e-4c28-8f3b-c523a7a1f160"
      },
      "source": [
        "askint()"
      ],
      "execution_count": 12,
      "outputs": [
        {
          "output_type": "stream",
          "text": [
            "Please enter an integer: 12\n",
            "Yep thats an integer!\n",
            "Finally, I executed!\n"
          ],
          "name": "stdout"
        }
      ]
    },
    {
      "cell_type": "code",
      "metadata": {
        "colab": {
          "base_uri": "https://localhost:8080/"
        },
        "id": "jfhbAaB3XGjk",
        "outputId": "a9583f04-3a9e-48a4-e81c-2ab560263ae5"
      },
      "source": [
        "askint()"
      ],
      "execution_count": 13,
      "outputs": [
        {
          "output_type": "stream",
          "text": [
            "Please enter an integer: ab\n",
            "Looks like you did not enter an integer!\n",
            "Finally, I executed!\n",
            "Please enter an integer: lm\n",
            "Looks like you did not enter an integer!\n",
            "Finally, I executed!\n",
            "Please enter an integer: 12\n",
            "Yep thats an integer!\n",
            "Finally, I executed!\n"
          ],
          "name": "stdout"
        }
      ]
    },
    {
      "cell_type": "code",
      "metadata": {
        "colab": {
          "base_uri": "https://localhost:8080/"
        },
        "id": "17-4SvGEXcf3",
        "outputId": "f7c10340-4ab3-4645-ffb6-a71b77f7d092"
      },
      "source": [
        "#!/usr/bin/python\n",
        "\n",
        "import sqlite3\n",
        "#connecting with the database.\n",
        "\n",
        "db = sqlite3.connect(\"my_database1.db\")\n",
        "\n",
        "# Drop table if it already exist using execute() method.\n",
        "db.execute(\"drop table if exists grades1\")\n",
        "\n",
        "# Create table as per requirement\n",
        "db.execute(\"create table grades1(id int, name text, score int)\")\n",
        "\n",
        "#inserting values inside the created table\n",
        "db.execute(\"insert into grades1(id, name, score) values(101, 'John',99 )\")\n",
        "db.execute(\"insert into grades1(id, name, score) values(102, 'Gary',90 )\")\n",
        "db.execute(\"insert into grades1(id, name, score) values(103, 'James', 80 )\")\n",
        "db.execute(\"insert into grades1(id, name, score) values(104, 'Cathy', 85 )\")\n",
        "db.execute(\"insert into grades1(id, name, score) values(105, 'Kris',95 )\")\n"
      ],
      "execution_count": 14,
      "outputs": [
        {
          "output_type": "execute_result",
          "data": {
            "text/plain": [
              "<sqlite3.Cursor at 0x7fae87495810>"
            ]
          },
          "metadata": {
            "tags": []
          },
          "execution_count": 14
        }
      ]
    },
    {
      "cell_type": "code",
      "metadata": {
        "id": "CYyDTWDBXhfr"
      },
      "source": [
        "db.commit()"
      ],
      "execution_count": 15,
      "outputs": []
    },
    {
      "cell_type": "code",
      "metadata": {
        "colab": {
          "base_uri": "https://localhost:8080/"
        },
        "id": "pH2M6dzIXr4G",
        "outputId": "ee95c160-3eee-46fa-ae00-08d8350f37dd"
      },
      "source": [
        "results = db.execute(\"select * from grades1 order by id\")\n",
        "for row in results:\n",
        "    print(row)\n",
        "print(\"-\" * 60 )"
      ],
      "execution_count": 16,
      "outputs": [
        {
          "output_type": "stream",
          "text": [
            "(101, 'John', 99)\n",
            "(102, 'Gary', 90)\n",
            "(103, 'James', 80)\n",
            "(104, 'Cathy', 85)\n",
            "(105, 'Kris', 95)\n",
            "------------------------------------------------------------\n"
          ],
          "name": "stdout"
        }
      ]
    },
    {
      "cell_type": "code",
      "metadata": {
        "colab": {
          "base_uri": "https://localhost:8080/"
        },
        "id": "BtQ1SUrKX8Jd",
        "outputId": "41a52da1-972c-4890-db43-2d14066cbcf5"
      },
      "source": [
        "results = db.execute(\"select * from grades1 where name = 'Gary' \")\n",
        "for row in results:\n",
        "    print(row)\n",
        "print(\"-\" * 60 )"
      ],
      "execution_count": 17,
      "outputs": [
        {
          "output_type": "stream",
          "text": [
            "(102, 'Gary', 90)\n",
            "------------------------------------------------------------\n"
          ],
          "name": "stdout"
        }
      ]
    },
    {
      "cell_type": "code",
      "metadata": {
        "colab": {
          "base_uri": "https://localhost:8080/"
        },
        "id": "Ud24QbgyXrsw",
        "outputId": "77cc3acc-78ed-4308-b091-c21858c399d3"
      },
      "source": [
        "results = db.execute(\"select * from grades1 where score >= 90 \")\n",
        "for row in results:\n",
        "    print(row)\n",
        "print(\"-\" * 60 )"
      ],
      "execution_count": 18,
      "outputs": [
        {
          "output_type": "stream",
          "text": [
            "(101, 'John', 99)\n",
            "(102, 'Gary', 90)\n",
            "(105, 'Kris', 95)\n",
            "------------------------------------------------------------\n"
          ],
          "name": "stdout"
        }
      ]
    },
    {
      "cell_type": "code",
      "metadata": {
        "colab": {
          "base_uri": "https://localhost:8080/"
        },
        "id": "l4U7l8c5YLzs",
        "outputId": "d23da69b-75e2-4caa-84de-dfc188344a68"
      },
      "source": [
        "results = db.execute(\"select name, score from grades1 order by score desc \")\n",
        "for row in results:\n",
        "    print(row)\n",
        "print(\"-\" * 60 )"
      ],
      "execution_count": 19,
      "outputs": [
        {
          "output_type": "stream",
          "text": [
            "('John', 99)\n",
            "('Kris', 95)\n",
            "('Gary', 90)\n",
            "('Cathy', 85)\n",
            "('James', 80)\n",
            "------------------------------------------------------------\n"
          ],
          "name": "stdout"
        }
      ]
    },
    {
      "cell_type": "code",
      "metadata": {
        "colab": {
          "base_uri": "https://localhost:8080/"
        },
        "id": "IHNl9ki9YUiL",
        "outputId": "ce647cff-e2d4-4226-80b3-be5e28f27c58"
      },
      "source": [
        "results = db.execute(\"select name, score from grades1 order by score\")\n",
        "for row in results:\n",
        "    print(row)\n",
        "print(\"-\" * 60 )"
      ],
      "execution_count": 20,
      "outputs": [
        {
          "output_type": "stream",
          "text": [
            "('James', 80)\n",
            "('Cathy', 85)\n",
            "('Gary', 90)\n",
            "('Kris', 95)\n",
            "('John', 99)\n",
            "------------------------------------------------------------\n"
          ],
          "name": "stdout"
        }
      ]
    },
    {
      "cell_type": "code",
      "metadata": {
        "colab": {
          "base_uri": "https://localhost:8080/"
        },
        "id": "Bppm_wMnYdAC",
        "outputId": "0329f1ea-93c5-44ee-ba20-877a3d357fae"
      },
      "source": [
        "results = db.execute(\"select name, score from grades1 order by score\")\n",
        "for row in results:\n",
        "    print(row)"
      ],
      "execution_count": 21,
      "outputs": [
        {
          "output_type": "stream",
          "text": [
            "('James', 80)\n",
            "('Cathy', 85)\n",
            "('Gary', 90)\n",
            "('Kris', 95)\n",
            "('John', 99)\n"
          ],
          "name": "stdout"
        }
      ]
    }
  ]
}