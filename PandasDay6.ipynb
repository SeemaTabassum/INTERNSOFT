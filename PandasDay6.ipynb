{
  "nbformat": 4,
  "nbformat_minor": 0,
  "metadata": {
    "colab": {
      "name": "PandasDay6.ipynb",
      "provenance": [],
      "authorship_tag": "ABX9TyPNfUN55wzMjpscWeURtRbg",
      "include_colab_link": true
    },
    "kernelspec": {
      "name": "python3",
      "display_name": "Python 3"
    },
    "language_info": {
      "name": "python"
    }
  },
  "cells": [
    {
      "cell_type": "markdown",
      "metadata": {
        "id": "view-in-github",
        "colab_type": "text"
      },
      "source": [
        "<a href=\"https://colab.research.google.com/github/SeemaTabassum/INTERNSOFT/blob/main/PandasDay6.ipynb\" target=\"_parent\"><img src=\"https://colab.research.google.com/assets/colab-badge.svg\" alt=\"Open In Colab\"/></a>"
      ]
    },
    {
      "cell_type": "code",
      "metadata": {
        "colab": {
          "base_uri": "https://localhost:8080/",
          "height": 35
        },
        "id": "j8zPRmxE3Uwl",
        "outputId": "04cdd07c-32a8-41dd-aaa3-40eec50374e0"
      },
      "source": [
        "import pandas\n",
        "pandas.__version__"
      ],
      "execution_count": 1,
      "outputs": [
        {
          "output_type": "execute_result",
          "data": {
            "application/vnd.google.colaboratory.intrinsic+json": {
              "type": "string"
            },
            "text/plain": [
              "'1.1.5'"
            ]
          },
          "metadata": {
            "tags": []
          },
          "execution_count": 1
        }
      ]
    },
    {
      "cell_type": "code",
      "metadata": {
        "id": "Cn3Kyfq74Ypx"
      },
      "source": [
        "import numpy as np\n",
        "import pandas as pd"
      ],
      "execution_count": 3,
      "outputs": []
    },
    {
      "cell_type": "code",
      "metadata": {
        "colab": {
          "base_uri": "https://localhost:8080/"
        },
        "id": "T9zvrfGA4TEj",
        "outputId": "e7fb2e8d-2540-4bc4-abb3-e06859fafdcd"
      },
      "source": [
        "counts = pd.Series([632, 1638, 569, 115])\n",
        "counts"
      ],
      "execution_count": 4,
      "outputs": [
        {
          "output_type": "execute_result",
          "data": {
            "text/plain": [
              "0     632\n",
              "1    1638\n",
              "2     569\n",
              "3     115\n",
              "dtype: int64"
            ]
          },
          "metadata": {
            "tags": []
          },
          "execution_count": 4
        }
      ]
    },
    {
      "cell_type": "code",
      "metadata": {
        "colab": {
          "base_uri": "https://localhost:8080/"
        },
        "id": "fykEEq5W4flb",
        "outputId": "e18c89ad-fc27-4444-ef7f-5d567620b7e0"
      },
      "source": [
        "counts.values"
      ],
      "execution_count": 5,
      "outputs": [
        {
          "output_type": "execute_result",
          "data": {
            "text/plain": [
              "array([ 632, 1638,  569,  115])"
            ]
          },
          "metadata": {
            "tags": []
          },
          "execution_count": 5
        }
      ]
    },
    {
      "cell_type": "code",
      "metadata": {
        "colab": {
          "base_uri": "https://localhost:8080/"
        },
        "id": "IULE5t3C4h97",
        "outputId": "64e84f65-ff6f-4b89-f158-69c8fb56b86e"
      },
      "source": [
        "counts.index"
      ],
      "execution_count": 6,
      "outputs": [
        {
          "output_type": "execute_result",
          "data": {
            "text/plain": [
              "RangeIndex(start=0, stop=4, step=1)"
            ]
          },
          "metadata": {
            "tags": []
          },
          "execution_count": 6
        }
      ]
    },
    {
      "cell_type": "code",
      "metadata": {
        "colab": {
          "base_uri": "https://localhost:8080/"
        },
        "id": "Zj9TLg3m4pEL",
        "outputId": "6aa44bc4-9dd3-4437-a4d4-947aa6c5aa47"
      },
      "source": [
        "bacteria = pd.Series([632, 1638, 569, 115], \n",
        "    index=['Firmicutes', 'Proteobacteria', 'Actinobacteria', 'Bacteroidetes'])\n",
        "\n",
        "bacteria"
      ],
      "execution_count": 7,
      "outputs": [
        {
          "output_type": "execute_result",
          "data": {
            "text/plain": [
              "Firmicutes         632\n",
              "Proteobacteria    1638\n",
              "Actinobacteria     569\n",
              "Bacteroidetes      115\n",
              "dtype: int64"
            ]
          },
          "metadata": {
            "tags": []
          },
          "execution_count": 7
        }
      ]
    },
    {
      "cell_type": "code",
      "metadata": {
        "colab": {
          "base_uri": "https://localhost:8080/"
        },
        "id": "SYTon_O64xPW",
        "outputId": "bf567ef5-c032-4e75-fbec-426fdea6f29f"
      },
      "source": [
        "bacteria['Actinobacteria']"
      ],
      "execution_count": 8,
      "outputs": [
        {
          "output_type": "execute_result",
          "data": {
            "text/plain": [
              "569"
            ]
          },
          "metadata": {
            "tags": []
          },
          "execution_count": 8
        }
      ]
    },
    {
      "cell_type": "code",
      "metadata": {
        "colab": {
          "base_uri": "https://localhost:8080/"
        },
        "id": "a2WHTzwV43Ho",
        "outputId": "dff0ef09-094f-43b6-eca9-053406050ed8"
      },
      "source": [
        "bacteria[0]"
      ],
      "execution_count": 9,
      "outputs": [
        {
          "output_type": "execute_result",
          "data": {
            "text/plain": [
              "632"
            ]
          },
          "metadata": {
            "tags": []
          },
          "execution_count": 9
        }
      ]
    },
    {
      "cell_type": "code",
      "metadata": {
        "colab": {
          "base_uri": "https://localhost:8080/"
        },
        "id": "B-nX7F4I47gh",
        "outputId": "88b8b251-ca5b-46c0-8049-e7eecbfd0002"
      },
      "source": [
        "bacteria.name = 'counts'\n",
        "bacteria.index.name = 'phylum'\n",
        "bacteria"
      ],
      "execution_count": 10,
      "outputs": [
        {
          "output_type": "execute_result",
          "data": {
            "text/plain": [
              "phylum\n",
              "Firmicutes         632\n",
              "Proteobacteria    1638\n",
              "Actinobacteria     569\n",
              "Bacteroidetes      115\n",
              "Name: counts, dtype: int64"
            ]
          },
          "metadata": {
            "tags": []
          },
          "execution_count": 10
        }
      ]
    },
    {
      "cell_type": "code",
      "metadata": {
        "colab": {
          "base_uri": "https://localhost:8080/"
        },
        "id": "CeFLnKqk5Gyq",
        "outputId": "9136022c-928a-46ee-9b69-13eb5292cca6"
      },
      "source": [
        "np.log(bacteria)"
      ],
      "execution_count": 11,
      "outputs": [
        {
          "output_type": "execute_result",
          "data": {
            "text/plain": [
              "phylum\n",
              "Firmicutes        6.448889\n",
              "Proteobacteria    7.401231\n",
              "Actinobacteria    6.343880\n",
              "Bacteroidetes     4.744932\n",
              "Name: counts, dtype: float64"
            ]
          },
          "metadata": {
            "tags": []
          },
          "execution_count": 11
        }
      ]
    },
    {
      "cell_type": "code",
      "metadata": {
        "colab": {
          "base_uri": "https://localhost:8080/"
        },
        "id": "wlVKOGGd5LeO",
        "outputId": "3115b448-8273-4adc-9f83-957744adcaee"
      },
      "source": [
        "bacteria[bacteria>1000]"
      ],
      "execution_count": 12,
      "outputs": [
        {
          "output_type": "execute_result",
          "data": {
            "text/plain": [
              "phylum\n",
              "Proteobacteria    1638\n",
              "Name: counts, dtype: int64"
            ]
          },
          "metadata": {
            "tags": []
          },
          "execution_count": 12
        }
      ]
    },
    {
      "cell_type": "code",
      "metadata": {
        "colab": {
          "base_uri": "https://localhost:8080/"
        },
        "id": "CSWnjtlg5QU-",
        "outputId": "e68fdcc2-fd48-4103-f639-d92108f9ba2d"
      },
      "source": [
        "bacteria_dict = {'Firmicutes': 632, 'Proteobacteria': 1500, 'Actinobacteria': 569, 'Bacteroidetes': 115}\n",
        "print(bacteria_dict)\n",
        "pd.Series(bacteria_dict)"
      ],
      "execution_count": 13,
      "outputs": [
        {
          "output_type": "stream",
          "text": [
            "{'Firmicutes': 632, 'Proteobacteria': 1500, 'Actinobacteria': 569, 'Bacteroidetes': 115}\n"
          ],
          "name": "stdout"
        },
        {
          "output_type": "execute_result",
          "data": {
            "text/plain": [
              "Firmicutes         632\n",
              "Proteobacteria    1500\n",
              "Actinobacteria     569\n",
              "Bacteroidetes      115\n",
              "dtype: int64"
            ]
          },
          "metadata": {
            "tags": []
          },
          "execution_count": 13
        }
      ]
    },
    {
      "cell_type": "code",
      "metadata": {
        "id": "c7c2aBhtTpLi"
      },
      "source": [
        "import numpy as np\n",
        "import pandas as pd"
      ],
      "execution_count": 2,
      "outputs": []
    },
    {
      "cell_type": "code",
      "metadata": {
        "colab": {
          "base_uri": "https://localhost:8080/",
          "height": 220
        },
        "id": "tzAL6QRfTbxb",
        "outputId": "bc1b220c-ca25-485d-f1c6-f1639b235e60"
      },
      "source": [
        "data = {\"Province\": [\"FL\", \"FL\", \"NH\", \"NH\", \"ZH\"],\n",
        "        \"Year\": [2013, 2014, 2013, 2014, 2014],\n",
        "        \"Literacy\": [0.2, 0.1, 0.5, 0.3, 0.5]}\n",
        "print(data)\n",
        "data = pd.DataFrame(data)\n",
        "data"
      ],
      "execution_count": 3,
      "outputs": [
        {
          "output_type": "stream",
          "text": [
            "{'Province': ['FL', 'FL', 'NH', 'NH', 'ZH'], 'Year': [2013, 2014, 2013, 2014, 2014], 'Literacy': [0.2, 0.1, 0.5, 0.3, 0.5]}\n"
          ],
          "name": "stdout"
        },
        {
          "output_type": "execute_result",
          "data": {
            "text/html": [
              "<div>\n",
              "<style scoped>\n",
              "    .dataframe tbody tr th:only-of-type {\n",
              "        vertical-align: middle;\n",
              "    }\n",
              "\n",
              "    .dataframe tbody tr th {\n",
              "        vertical-align: top;\n",
              "    }\n",
              "\n",
              "    .dataframe thead th {\n",
              "        text-align: right;\n",
              "    }\n",
              "</style>\n",
              "<table border=\"1\" class=\"dataframe\">\n",
              "  <thead>\n",
              "    <tr style=\"text-align: right;\">\n",
              "      <th></th>\n",
              "      <th>Province</th>\n",
              "      <th>Year</th>\n",
              "      <th>Literacy</th>\n",
              "    </tr>\n",
              "  </thead>\n",
              "  <tbody>\n",
              "    <tr>\n",
              "      <th>0</th>\n",
              "      <td>FL</td>\n",
              "      <td>2013</td>\n",
              "      <td>0.2</td>\n",
              "    </tr>\n",
              "    <tr>\n",
              "      <th>1</th>\n",
              "      <td>FL</td>\n",
              "      <td>2014</td>\n",
              "      <td>0.1</td>\n",
              "    </tr>\n",
              "    <tr>\n",
              "      <th>2</th>\n",
              "      <td>NH</td>\n",
              "      <td>2013</td>\n",
              "      <td>0.5</td>\n",
              "    </tr>\n",
              "    <tr>\n",
              "      <th>3</th>\n",
              "      <td>NH</td>\n",
              "      <td>2014</td>\n",
              "      <td>0.3</td>\n",
              "    </tr>\n",
              "    <tr>\n",
              "      <th>4</th>\n",
              "      <td>ZH</td>\n",
              "      <td>2014</td>\n",
              "      <td>0.5</td>\n",
              "    </tr>\n",
              "  </tbody>\n",
              "</table>\n",
              "</div>"
            ],
            "text/plain": [
              "  Province  Year  Literacy\n",
              "0       FL  2013       0.2\n",
              "1       FL  2014       0.1\n",
              "2       NH  2013       0.5\n",
              "3       NH  2014       0.3\n",
              "4       ZH  2014       0.5"
            ]
          },
          "metadata": {
            "tags": []
          },
          "execution_count": 3
        }
      ]
    },
    {
      "cell_type": "code",
      "metadata": {
        "colab": {
          "base_uri": "https://localhost:8080/",
          "height": 203
        },
        "id": "mIxDQXEvT2ie",
        "outputId": "1eac9857-c7e4-4824-80c5-4b08b94d7783"
      },
      "source": [
        "df = pd.DataFrame(data, columns=[\"Year\", \"Province\" ,\"Literacy\"])\n",
        "df"
      ],
      "execution_count": 4,
      "outputs": [
        {
          "output_type": "execute_result",
          "data": {
            "text/html": [
              "<div>\n",
              "<style scoped>\n",
              "    .dataframe tbody tr th:only-of-type {\n",
              "        vertical-align: middle;\n",
              "    }\n",
              "\n",
              "    .dataframe tbody tr th {\n",
              "        vertical-align: top;\n",
              "    }\n",
              "\n",
              "    .dataframe thead th {\n",
              "        text-align: right;\n",
              "    }\n",
              "</style>\n",
              "<table border=\"1\" class=\"dataframe\">\n",
              "  <thead>\n",
              "    <tr style=\"text-align: right;\">\n",
              "      <th></th>\n",
              "      <th>Year</th>\n",
              "      <th>Province</th>\n",
              "      <th>Literacy</th>\n",
              "    </tr>\n",
              "  </thead>\n",
              "  <tbody>\n",
              "    <tr>\n",
              "      <th>0</th>\n",
              "      <td>2013</td>\n",
              "      <td>FL</td>\n",
              "      <td>0.2</td>\n",
              "    </tr>\n",
              "    <tr>\n",
              "      <th>1</th>\n",
              "      <td>2014</td>\n",
              "      <td>FL</td>\n",
              "      <td>0.1</td>\n",
              "    </tr>\n",
              "    <tr>\n",
              "      <th>2</th>\n",
              "      <td>2013</td>\n",
              "      <td>NH</td>\n",
              "      <td>0.5</td>\n",
              "    </tr>\n",
              "    <tr>\n",
              "      <th>3</th>\n",
              "      <td>2014</td>\n",
              "      <td>NH</td>\n",
              "      <td>0.3</td>\n",
              "    </tr>\n",
              "    <tr>\n",
              "      <th>4</th>\n",
              "      <td>2014</td>\n",
              "      <td>ZH</td>\n",
              "      <td>0.5</td>\n",
              "    </tr>\n",
              "  </tbody>\n",
              "</table>\n",
              "</div>"
            ],
            "text/plain": [
              "   Year Province  Literacy\n",
              "0  2013       FL       0.2\n",
              "1  2014       FL       0.1\n",
              "2  2013       NH       0.5\n",
              "3  2014       NH       0.3\n",
              "4  2014       ZH       0.5"
            ]
          },
          "metadata": {
            "tags": []
          },
          "execution_count": 4
        }
      ]
    },
    {
      "cell_type": "code",
      "metadata": {
        "colab": {
          "base_uri": "https://localhost:8080/",
          "height": 203
        },
        "id": "dw6krZBHT-F_",
        "outputId": "0bfb2ff3-2677-48ea-9dcd-e0b56bbfc7d4"
      },
      "source": [
        "df['nonsense'] = df.Year / df.Literacy\n",
        "df"
      ],
      "execution_count": 5,
      "outputs": [
        {
          "output_type": "execute_result",
          "data": {
            "text/html": [
              "<div>\n",
              "<style scoped>\n",
              "    .dataframe tbody tr th:only-of-type {\n",
              "        vertical-align: middle;\n",
              "    }\n",
              "\n",
              "    .dataframe tbody tr th {\n",
              "        vertical-align: top;\n",
              "    }\n",
              "\n",
              "    .dataframe thead th {\n",
              "        text-align: right;\n",
              "    }\n",
              "</style>\n",
              "<table border=\"1\" class=\"dataframe\">\n",
              "  <thead>\n",
              "    <tr style=\"text-align: right;\">\n",
              "      <th></th>\n",
              "      <th>Year</th>\n",
              "      <th>Province</th>\n",
              "      <th>Literacy</th>\n",
              "      <th>nonsense</th>\n",
              "    </tr>\n",
              "  </thead>\n",
              "  <tbody>\n",
              "    <tr>\n",
              "      <th>0</th>\n",
              "      <td>2013</td>\n",
              "      <td>FL</td>\n",
              "      <td>0.2</td>\n",
              "      <td>10065.000000</td>\n",
              "    </tr>\n",
              "    <tr>\n",
              "      <th>1</th>\n",
              "      <td>2014</td>\n",
              "      <td>FL</td>\n",
              "      <td>0.1</td>\n",
              "      <td>20140.000000</td>\n",
              "    </tr>\n",
              "    <tr>\n",
              "      <th>2</th>\n",
              "      <td>2013</td>\n",
              "      <td>NH</td>\n",
              "      <td>0.5</td>\n",
              "      <td>4026.000000</td>\n",
              "    </tr>\n",
              "    <tr>\n",
              "      <th>3</th>\n",
              "      <td>2014</td>\n",
              "      <td>NH</td>\n",
              "      <td>0.3</td>\n",
              "      <td>6713.333333</td>\n",
              "    </tr>\n",
              "    <tr>\n",
              "      <th>4</th>\n",
              "      <td>2014</td>\n",
              "      <td>ZH</td>\n",
              "      <td>0.5</td>\n",
              "      <td>4028.000000</td>\n",
              "    </tr>\n",
              "  </tbody>\n",
              "</table>\n",
              "</div>"
            ],
            "text/plain": [
              "   Year Province  Literacy      nonsense\n",
              "0  2013       FL       0.2  10065.000000\n",
              "1  2014       FL       0.1  20140.000000\n",
              "2  2013       NH       0.5   4026.000000\n",
              "3  2014       NH       0.3   6713.333333\n",
              "4  2014       ZH       0.5   4028.000000"
            ]
          },
          "metadata": {
            "tags": []
          },
          "execution_count": 5
        }
      ]
    },
    {
      "cell_type": "code",
      "metadata": {
        "colab": {
          "base_uri": "https://localhost:8080/",
          "height": 203
        },
        "id": "swW_VE7eUG84",
        "outputId": "7d6c4e57-2c39-41ea-f763-3ce81afa14c4"
      },
      "source": [
        "df['Serie_aligned'] = pd.Series(range(5), index=[0,1,2, 3, 4])\n",
        "df"
      ],
      "execution_count": 6,
      "outputs": [
        {
          "output_type": "execute_result",
          "data": {
            "text/html": [
              "<div>\n",
              "<style scoped>\n",
              "    .dataframe tbody tr th:only-of-type {\n",
              "        vertical-align: middle;\n",
              "    }\n",
              "\n",
              "    .dataframe tbody tr th {\n",
              "        vertical-align: top;\n",
              "    }\n",
              "\n",
              "    .dataframe thead th {\n",
              "        text-align: right;\n",
              "    }\n",
              "</style>\n",
              "<table border=\"1\" class=\"dataframe\">\n",
              "  <thead>\n",
              "    <tr style=\"text-align: right;\">\n",
              "      <th></th>\n",
              "      <th>Year</th>\n",
              "      <th>Province</th>\n",
              "      <th>Literacy</th>\n",
              "      <th>nonsense</th>\n",
              "      <th>Serie_aligned</th>\n",
              "    </tr>\n",
              "  </thead>\n",
              "  <tbody>\n",
              "    <tr>\n",
              "      <th>0</th>\n",
              "      <td>2013</td>\n",
              "      <td>FL</td>\n",
              "      <td>0.2</td>\n",
              "      <td>10065.000000</td>\n",
              "      <td>0</td>\n",
              "    </tr>\n",
              "    <tr>\n",
              "      <th>1</th>\n",
              "      <td>2014</td>\n",
              "      <td>FL</td>\n",
              "      <td>0.1</td>\n",
              "      <td>20140.000000</td>\n",
              "      <td>1</td>\n",
              "    </tr>\n",
              "    <tr>\n",
              "      <th>2</th>\n",
              "      <td>2013</td>\n",
              "      <td>NH</td>\n",
              "      <td>0.5</td>\n",
              "      <td>4026.000000</td>\n",
              "      <td>2</td>\n",
              "    </tr>\n",
              "    <tr>\n",
              "      <th>3</th>\n",
              "      <td>2014</td>\n",
              "      <td>NH</td>\n",
              "      <td>0.3</td>\n",
              "      <td>6713.333333</td>\n",
              "      <td>3</td>\n",
              "    </tr>\n",
              "    <tr>\n",
              "      <th>4</th>\n",
              "      <td>2014</td>\n",
              "      <td>ZH</td>\n",
              "      <td>0.5</td>\n",
              "      <td>4028.000000</td>\n",
              "      <td>4</td>\n",
              "    </tr>\n",
              "  </tbody>\n",
              "</table>\n",
              "</div>"
            ],
            "text/plain": [
              "   Year Province  Literacy      nonsense  Serie_aligned\n",
              "0  2013       FL       0.2  10065.000000              0\n",
              "1  2014       FL       0.1  20140.000000              1\n",
              "2  2013       NH       0.5   4026.000000              2\n",
              "3  2014       NH       0.3   6713.333333              3\n",
              "4  2014       ZH       0.5   4028.000000              4"
            ]
          },
          "metadata": {
            "tags": []
          },
          "execution_count": 6
        }
      ]
    },
    {
      "cell_type": "code",
      "metadata": {
        "colab": {
          "base_uri": "https://localhost:8080/"
        },
        "id": "7gAEUw2jULfP",
        "outputId": "809edc8a-c421-47ed-bd5a-9cac34b959dd"
      },
      "source": [
        "df.to_dict()"
      ],
      "execution_count": 7,
      "outputs": [
        {
          "output_type": "execute_result",
          "data": {
            "text/plain": [
              "{'Literacy': {0: 0.2, 1: 0.1, 2: 0.5, 3: 0.3, 4: 0.5},\n",
              " 'Province': {0: 'FL', 1: 'FL', 2: 'NH', 3: 'NH', 4: 'ZH'},\n",
              " 'Serie_aligned': {0: 0, 1: 1, 2: 2, 3: 3, 4: 4},\n",
              " 'Year': {0: 2013, 1: 2014, 2: 2013, 3: 2014, 4: 2014},\n",
              " 'nonsense': {0: 10065.0,\n",
              "  1: 20140.0,\n",
              "  2: 4026.0,\n",
              "  3: 6713.333333333334,\n",
              "  4: 4028.0}}"
            ]
          },
          "metadata": {
            "tags": []
          },
          "execution_count": 7
        }
      ]
    },
    {
      "cell_type": "code",
      "metadata": {
        "colab": {
          "base_uri": "https://localhost:8080/",
          "height": 203
        },
        "id": "peZprZNLUStv",
        "outputId": "ab9ccba8-79a3-4904-a482-31a3d0f0746a"
      },
      "source": [
        "pd.DataFrame(df.to_dict())"
      ],
      "execution_count": 8,
      "outputs": [
        {
          "output_type": "execute_result",
          "data": {
            "text/html": [
              "<div>\n",
              "<style scoped>\n",
              "    .dataframe tbody tr th:only-of-type {\n",
              "        vertical-align: middle;\n",
              "    }\n",
              "\n",
              "    .dataframe tbody tr th {\n",
              "        vertical-align: top;\n",
              "    }\n",
              "\n",
              "    .dataframe thead th {\n",
              "        text-align: right;\n",
              "    }\n",
              "</style>\n",
              "<table border=\"1\" class=\"dataframe\">\n",
              "  <thead>\n",
              "    <tr style=\"text-align: right;\">\n",
              "      <th></th>\n",
              "      <th>Year</th>\n",
              "      <th>Province</th>\n",
              "      <th>Literacy</th>\n",
              "      <th>nonsense</th>\n",
              "      <th>Serie_aligned</th>\n",
              "    </tr>\n",
              "  </thead>\n",
              "  <tbody>\n",
              "    <tr>\n",
              "      <th>0</th>\n",
              "      <td>2013</td>\n",
              "      <td>FL</td>\n",
              "      <td>0.2</td>\n",
              "      <td>10065.000000</td>\n",
              "      <td>0</td>\n",
              "    </tr>\n",
              "    <tr>\n",
              "      <th>1</th>\n",
              "      <td>2014</td>\n",
              "      <td>FL</td>\n",
              "      <td>0.1</td>\n",
              "      <td>20140.000000</td>\n",
              "      <td>1</td>\n",
              "    </tr>\n",
              "    <tr>\n",
              "      <th>2</th>\n",
              "      <td>2013</td>\n",
              "      <td>NH</td>\n",
              "      <td>0.5</td>\n",
              "      <td>4026.000000</td>\n",
              "      <td>2</td>\n",
              "    </tr>\n",
              "    <tr>\n",
              "      <th>3</th>\n",
              "      <td>2014</td>\n",
              "      <td>NH</td>\n",
              "      <td>0.3</td>\n",
              "      <td>6713.333333</td>\n",
              "      <td>3</td>\n",
              "    </tr>\n",
              "    <tr>\n",
              "      <th>4</th>\n",
              "      <td>2014</td>\n",
              "      <td>ZH</td>\n",
              "      <td>0.5</td>\n",
              "      <td>4028.000000</td>\n",
              "      <td>4</td>\n",
              "    </tr>\n",
              "  </tbody>\n",
              "</table>\n",
              "</div>"
            ],
            "text/plain": [
              "   Year Province  Literacy      nonsense  Serie_aligned\n",
              "0  2013       FL       0.2  10065.000000              0\n",
              "1  2014       FL       0.1  20140.000000              1\n",
              "2  2013       NH       0.5   4026.000000              2\n",
              "3  2014       NH       0.3   6713.333333              3\n",
              "4  2014       ZH       0.5   4028.000000              4"
            ]
          },
          "metadata": {
            "tags": []
          },
          "execution_count": 8
        }
      ]
    },
    {
      "cell_type": "code",
      "metadata": {
        "colab": {
          "base_uri": "https://localhost:8080/",
          "height": 250
        },
        "id": "-hR_bzQaVhCM",
        "outputId": "0ce234b6-9b61-46b7-eb60-e48f3b37ce05"
      },
      "source": [
        "data = [{'a': i, 'b':10* i}for i in range(6)]\n",
        "print(data)\n",
        "pd.DataFrame(data)"
      ],
      "execution_count": 9,
      "outputs": [
        {
          "output_type": "stream",
          "text": [
            "[{'a': 0, 'b': 0}, {'a': 1, 'b': 10}, {'a': 2, 'b': 20}, {'a': 3, 'b': 30}, {'a': 4, 'b': 40}, {'a': 5, 'b': 50}]\n"
          ],
          "name": "stdout"
        },
        {
          "output_type": "execute_result",
          "data": {
            "text/html": [
              "<div>\n",
              "<style scoped>\n",
              "    .dataframe tbody tr th:only-of-type {\n",
              "        vertical-align: middle;\n",
              "    }\n",
              "\n",
              "    .dataframe tbody tr th {\n",
              "        vertical-align: top;\n",
              "    }\n",
              "\n",
              "    .dataframe thead th {\n",
              "        text-align: right;\n",
              "    }\n",
              "</style>\n",
              "<table border=\"1\" class=\"dataframe\">\n",
              "  <thead>\n",
              "    <tr style=\"text-align: right;\">\n",
              "      <th></th>\n",
              "      <th>a</th>\n",
              "      <th>b</th>\n",
              "    </tr>\n",
              "  </thead>\n",
              "  <tbody>\n",
              "    <tr>\n",
              "      <th>0</th>\n",
              "      <td>0</td>\n",
              "      <td>0</td>\n",
              "    </tr>\n",
              "    <tr>\n",
              "      <th>1</th>\n",
              "      <td>1</td>\n",
              "      <td>10</td>\n",
              "    </tr>\n",
              "    <tr>\n",
              "      <th>2</th>\n",
              "      <td>2</td>\n",
              "      <td>20</td>\n",
              "    </tr>\n",
              "    <tr>\n",
              "      <th>3</th>\n",
              "      <td>3</td>\n",
              "      <td>30</td>\n",
              "    </tr>\n",
              "    <tr>\n",
              "      <th>4</th>\n",
              "      <td>4</td>\n",
              "      <td>40</td>\n",
              "    </tr>\n",
              "    <tr>\n",
              "      <th>5</th>\n",
              "      <td>5</td>\n",
              "      <td>50</td>\n",
              "    </tr>\n",
              "  </tbody>\n",
              "</table>\n",
              "</div>"
            ],
            "text/plain": [
              "   a   b\n",
              "0  0   0\n",
              "1  1  10\n",
              "2  2  20\n",
              "3  3  30\n",
              "4  4  40\n",
              "5  5  50"
            ]
          },
          "metadata": {
            "tags": []
          },
          "execution_count": 9
        }
      ]
    },
    {
      "cell_type": "code",
      "metadata": {
        "colab": {
          "base_uri": "https://localhost:8080/",
          "height": 110
        },
        "id": "wGA8w0PiVrQu",
        "outputId": "8b1655f5-fbb6-4ce5-b6ef-c676af52b9f4"
      },
      "source": [
        "pd.DataFrame([{'aa': 1, 'bb': 2}, {'bb': 3, 'cc': 6}])"
      ],
      "execution_count": 10,
      "outputs": [
        {
          "output_type": "execute_result",
          "data": {
            "text/html": [
              "<div>\n",
              "<style scoped>\n",
              "    .dataframe tbody tr th:only-of-type {\n",
              "        vertical-align: middle;\n",
              "    }\n",
              "\n",
              "    .dataframe tbody tr th {\n",
              "        vertical-align: top;\n",
              "    }\n",
              "\n",
              "    .dataframe thead th {\n",
              "        text-align: right;\n",
              "    }\n",
              "</style>\n",
              "<table border=\"1\" class=\"dataframe\">\n",
              "  <thead>\n",
              "    <tr style=\"text-align: right;\">\n",
              "      <th></th>\n",
              "      <th>aa</th>\n",
              "      <th>bb</th>\n",
              "      <th>cc</th>\n",
              "    </tr>\n",
              "  </thead>\n",
              "  <tbody>\n",
              "    <tr>\n",
              "      <th>0</th>\n",
              "      <td>1.0</td>\n",
              "      <td>2</td>\n",
              "      <td>NaN</td>\n",
              "    </tr>\n",
              "    <tr>\n",
              "      <th>1</th>\n",
              "      <td>NaN</td>\n",
              "      <td>3</td>\n",
              "      <td>6.0</td>\n",
              "    </tr>\n",
              "  </tbody>\n",
              "</table>\n",
              "</div>"
            ],
            "text/plain": [
              "    aa  bb   cc\n",
              "0  1.0   2  NaN\n",
              "1  NaN   3  6.0"
            ]
          },
          "metadata": {
            "tags": []
          },
          "execution_count": 10
        }
      ]
    },
    {
      "cell_type": "code",
      "metadata": {
        "colab": {
          "base_uri": "https://localhost:8080/",
          "height": 142
        },
        "id": "5vMn4BjCV-5f",
        "outputId": "59d3e5a4-0f2d-48fe-81ad-0d94c3a15818"
      },
      "source": [
        "pd.DataFrame(np.random.randint(2, 12),\n",
        "             columns=['foo', 'bar'],\n",
        "             index=['a', 'b', 'c'])"
      ],
      "execution_count": 11,
      "outputs": [
        {
          "output_type": "execute_result",
          "data": {
            "text/html": [
              "<div>\n",
              "<style scoped>\n",
              "    .dataframe tbody tr th:only-of-type {\n",
              "        vertical-align: middle;\n",
              "    }\n",
              "\n",
              "    .dataframe tbody tr th {\n",
              "        vertical-align: top;\n",
              "    }\n",
              "\n",
              "    .dataframe thead th {\n",
              "        text-align: right;\n",
              "    }\n",
              "</style>\n",
              "<table border=\"1\" class=\"dataframe\">\n",
              "  <thead>\n",
              "    <tr style=\"text-align: right;\">\n",
              "      <th></th>\n",
              "      <th>foo</th>\n",
              "      <th>bar</th>\n",
              "    </tr>\n",
              "  </thead>\n",
              "  <tbody>\n",
              "    <tr>\n",
              "      <th>a</th>\n",
              "      <td>6</td>\n",
              "      <td>6</td>\n",
              "    </tr>\n",
              "    <tr>\n",
              "      <th>b</th>\n",
              "      <td>6</td>\n",
              "      <td>6</td>\n",
              "    </tr>\n",
              "    <tr>\n",
              "      <th>c</th>\n",
              "      <td>6</td>\n",
              "      <td>6</td>\n",
              "    </tr>\n",
              "  </tbody>\n",
              "</table>\n",
              "</div>"
            ],
            "text/plain": [
              "   foo  bar\n",
              "a    6    6\n",
              "b    6    6\n",
              "c    6    6"
            ]
          },
          "metadata": {
            "tags": []
          },
          "execution_count": 11
        }
      ]
    },
    {
      "cell_type": "code",
      "metadata": {
        "colab": {
          "base_uri": "https://localhost:8080/"
        },
        "id": "JJJCzYbdWMbv",
        "outputId": "b76e8866-4cb0-4f77-f03b-8b66fa6b13a2"
      },
      "source": [
        "ind = pd.Index([20, 34, 57, 7, 1, 8])\n",
        "ind"
      ],
      "execution_count": 12,
      "outputs": [
        {
          "output_type": "execute_result",
          "data": {
            "text/plain": [
              "Int64Index([20, 34, 57, 7, 1, 8], dtype='int64')"
            ]
          },
          "metadata": {
            "tags": []
          },
          "execution_count": 12
        }
      ]
    },
    {
      "cell_type": "code",
      "metadata": {
        "colab": {
          "base_uri": "https://localhost:8080/"
        },
        "id": "NoS6RzeyW5JV",
        "outputId": "e820953a-4afa-4d8e-e24a-967fe498be3c"
      },
      "source": [
        "ind[1]"
      ],
      "execution_count": 13,
      "outputs": [
        {
          "output_type": "execute_result",
          "data": {
            "text/plain": [
              "34"
            ]
          },
          "metadata": {
            "tags": []
          },
          "execution_count": 13
        }
      ]
    },
    {
      "cell_type": "code",
      "metadata": {
        "colab": {
          "base_uri": "https://localhost:8080/"
        },
        "id": "O8uIAJnBW8A_",
        "outputId": "2ad7cf1c-45b0-4491-f1c8-9a97ca0682be"
      },
      "source": [
        "ind[::]"
      ],
      "execution_count": 14,
      "outputs": [
        {
          "output_type": "execute_result",
          "data": {
            "text/plain": [
              "Int64Index([20, 34, 57, 7, 1, 8], dtype='int64')"
            ]
          },
          "metadata": {
            "tags": []
          },
          "execution_count": 14
        }
      ]
    },
    {
      "cell_type": "code",
      "metadata": {
        "colab": {
          "base_uri": "https://localhost:8080/"
        },
        "id": "o8SKy4IzXCA8",
        "outputId": "0c949347-261e-419c-91b4-05148c3685af"
      },
      "source": [
        "print(ind.size, ind.shape, ind.ndim, ind.dtype)"
      ],
      "execution_count": 15,
      "outputs": [
        {
          "output_type": "stream",
          "text": [
            "6 (6,) 1 int64\n"
          ],
          "name": "stdout"
        }
      ]
    },
    {
      "cell_type": "code",
      "metadata": {
        "colab": {
          "base_uri": "https://localhost:8080/",
          "height": 279
        },
        "id": "Fsl-F8aWXOK8",
        "outputId": "72817c02-3d15-4fbc-c453-a3e3955e741f"
      },
      "source": [
        "ind[1] = 0"
      ],
      "execution_count": 16,
      "outputs": [
        {
          "output_type": "error",
          "ename": "TypeError",
          "evalue": "ignored",
          "traceback": [
            "\u001b[0;31m---------------------------------------------------------------------------\u001b[0m",
            "\u001b[0;31mTypeError\u001b[0m                                 Traceback (most recent call last)",
            "\u001b[0;32m<ipython-input-16-906a9fa1424c>\u001b[0m in \u001b[0;36m<module>\u001b[0;34m()\u001b[0m\n\u001b[0;32m----> 1\u001b[0;31m \u001b[0mind\u001b[0m\u001b[0;34m[\u001b[0m\u001b[0;36m1\u001b[0m\u001b[0;34m]\u001b[0m \u001b[0;34m=\u001b[0m \u001b[0;36m0\u001b[0m\u001b[0;34m\u001b[0m\u001b[0;34m\u001b[0m\u001b[0m\n\u001b[0m",
            "\u001b[0;32m/usr/local/lib/python3.7/dist-packages/pandas/core/indexes/base.py\u001b[0m in \u001b[0;36m__setitem__\u001b[0;34m(self, key, value)\u001b[0m\n\u001b[1;32m   4082\u001b[0m \u001b[0;34m\u001b[0m\u001b[0m\n\u001b[1;32m   4083\u001b[0m     \u001b[0;32mdef\u001b[0m \u001b[0m__setitem__\u001b[0m\u001b[0;34m(\u001b[0m\u001b[0mself\u001b[0m\u001b[0;34m,\u001b[0m \u001b[0mkey\u001b[0m\u001b[0;34m,\u001b[0m \u001b[0mvalue\u001b[0m\u001b[0;34m)\u001b[0m\u001b[0;34m:\u001b[0m\u001b[0;34m\u001b[0m\u001b[0;34m\u001b[0m\u001b[0m\n\u001b[0;32m-> 4084\u001b[0;31m         \u001b[0;32mraise\u001b[0m \u001b[0mTypeError\u001b[0m\u001b[0;34m(\u001b[0m\u001b[0;34m\"Index does not support mutable operations\"\u001b[0m\u001b[0;34m)\u001b[0m\u001b[0;34m\u001b[0m\u001b[0;34m\u001b[0m\u001b[0m\n\u001b[0m\u001b[1;32m   4085\u001b[0m \u001b[0;34m\u001b[0m\u001b[0m\n\u001b[1;32m   4086\u001b[0m     \u001b[0;32mdef\u001b[0m \u001b[0m__getitem__\u001b[0m\u001b[0;34m(\u001b[0m\u001b[0mself\u001b[0m\u001b[0;34m,\u001b[0m \u001b[0mkey\u001b[0m\u001b[0;34m)\u001b[0m\u001b[0;34m:\u001b[0m\u001b[0;34m\u001b[0m\u001b[0;34m\u001b[0m\u001b[0m\n",
            "\u001b[0;31mTypeError\u001b[0m: Index does not support mutable operations"
          ]
        }
      ]
    },
    {
      "cell_type": "code",
      "metadata": {
        "colab": {
          "base_uri": "https://localhost:8080/"
        },
        "id": "o3chfuPPZAXj",
        "outputId": "cb7d9675-42bb-4f6c-b620-32f853e33be3"
      },
      "source": [
        "rng = np.random.RandomState(15)\n",
        "ser = pd.Series(rng.randint(0, 10, 4))\n",
        "ser"
      ],
      "execution_count": 17,
      "outputs": [
        {
          "output_type": "execute_result",
          "data": {
            "text/plain": [
              "0    8\n",
              "1    5\n",
              "2    5\n",
              "3    7\n",
              "dtype: int64"
            ]
          },
          "metadata": {
            "tags": []
          },
          "execution_count": 17
        }
      ]
    },
    {
      "cell_type": "code",
      "metadata": {
        "colab": {
          "base_uri": "https://localhost:8080/",
          "height": 203
        },
        "id": "Q26jcGtpZiJV",
        "outputId": "7b5db30a-8050-46aa-b6b8-ddb157682519"
      },
      "source": [
        "dfr = pd.DataFrame(rng.randint(0, 10, (5, 4)),\n",
        "                  columns=['A', 'B', 'C', 'D'])\n",
        "dfr"
      ],
      "execution_count": 18,
      "outputs": [
        {
          "output_type": "execute_result",
          "data": {
            "text/html": [
              "<div>\n",
              "<style scoped>\n",
              "    .dataframe tbody tr th:only-of-type {\n",
              "        vertical-align: middle;\n",
              "    }\n",
              "\n",
              "    .dataframe tbody tr th {\n",
              "        vertical-align: top;\n",
              "    }\n",
              "\n",
              "    .dataframe thead th {\n",
              "        text-align: right;\n",
              "    }\n",
              "</style>\n",
              "<table border=\"1\" class=\"dataframe\">\n",
              "  <thead>\n",
              "    <tr style=\"text-align: right;\">\n",
              "      <th></th>\n",
              "      <th>A</th>\n",
              "      <th>B</th>\n",
              "      <th>C</th>\n",
              "      <th>D</th>\n",
              "    </tr>\n",
              "  </thead>\n",
              "  <tbody>\n",
              "    <tr>\n",
              "      <th>0</th>\n",
              "      <td>0</td>\n",
              "      <td>7</td>\n",
              "      <td>5</td>\n",
              "      <td>6</td>\n",
              "    </tr>\n",
              "    <tr>\n",
              "      <th>1</th>\n",
              "      <td>1</td>\n",
              "      <td>7</td>\n",
              "      <td>0</td>\n",
              "      <td>4</td>\n",
              "    </tr>\n",
              "    <tr>\n",
              "      <th>2</th>\n",
              "      <td>9</td>\n",
              "      <td>7</td>\n",
              "      <td>5</td>\n",
              "      <td>3</td>\n",
              "    </tr>\n",
              "    <tr>\n",
              "      <th>3</th>\n",
              "      <td>6</td>\n",
              "      <td>8</td>\n",
              "      <td>2</td>\n",
              "      <td>1</td>\n",
              "    </tr>\n",
              "    <tr>\n",
              "      <th>4</th>\n",
              "      <td>1</td>\n",
              "      <td>0</td>\n",
              "      <td>5</td>\n",
              "      <td>2</td>\n",
              "    </tr>\n",
              "  </tbody>\n",
              "</table>\n",
              "</div>"
            ],
            "text/plain": [
              "   A  B  C  D\n",
              "0  0  7  5  6\n",
              "1  1  7  0  4\n",
              "2  9  7  5  3\n",
              "3  6  8  2  1\n",
              "4  1  0  5  2"
            ]
          },
          "metadata": {
            "tags": []
          },
          "execution_count": 18
        }
      ]
    },
    {
      "cell_type": "code",
      "metadata": {
        "colab": {
          "base_uri": "https://localhost:8080/"
        },
        "id": "IVUel35UZ3W8",
        "outputId": "a5c2548c-40ad-4aa7-def9-c05fa30839e0"
      },
      "source": [
        "np.exp(ser)"
      ],
      "execution_count": 19,
      "outputs": [
        {
          "output_type": "execute_result",
          "data": {
            "text/plain": [
              "0    2980.957987\n",
              "1     148.413159\n",
              "2     148.413159\n",
              "3    1096.633158\n",
              "dtype: float64"
            ]
          },
          "metadata": {
            "tags": []
          },
          "execution_count": 19
        }
      ]
    },
    {
      "cell_type": "code",
      "metadata": {
        "colab": {
          "base_uri": "https://localhost:8080/",
          "height": 203
        },
        "id": "u_cEGcmbaGQh",
        "outputId": "49bce042-5e19-4209-fccb-919f6c2e0cc5"
      },
      "source": [
        "np.sin(dfr * np.pi / 4)"
      ],
      "execution_count": 20,
      "outputs": [
        {
          "output_type": "execute_result",
          "data": {
            "text/html": [
              "<div>\n",
              "<style scoped>\n",
              "    .dataframe tbody tr th:only-of-type {\n",
              "        vertical-align: middle;\n",
              "    }\n",
              "\n",
              "    .dataframe tbody tr th {\n",
              "        vertical-align: top;\n",
              "    }\n",
              "\n",
              "    .dataframe thead th {\n",
              "        text-align: right;\n",
              "    }\n",
              "</style>\n",
              "<table border=\"1\" class=\"dataframe\">\n",
              "  <thead>\n",
              "    <tr style=\"text-align: right;\">\n",
              "      <th></th>\n",
              "      <th>A</th>\n",
              "      <th>B</th>\n",
              "      <th>C</th>\n",
              "      <th>D</th>\n",
              "    </tr>\n",
              "  </thead>\n",
              "  <tbody>\n",
              "    <tr>\n",
              "      <th>0</th>\n",
              "      <td>0.000000</td>\n",
              "      <td>-7.071068e-01</td>\n",
              "      <td>-0.707107</td>\n",
              "      <td>-1.000000e+00</td>\n",
              "    </tr>\n",
              "    <tr>\n",
              "      <th>1</th>\n",
              "      <td>0.707107</td>\n",
              "      <td>-7.071068e-01</td>\n",
              "      <td>0.000000</td>\n",
              "      <td>1.224647e-16</td>\n",
              "    </tr>\n",
              "    <tr>\n",
              "      <th>2</th>\n",
              "      <td>0.707107</td>\n",
              "      <td>-7.071068e-01</td>\n",
              "      <td>-0.707107</td>\n",
              "      <td>7.071068e-01</td>\n",
              "    </tr>\n",
              "    <tr>\n",
              "      <th>3</th>\n",
              "      <td>-1.000000</td>\n",
              "      <td>-2.449294e-16</td>\n",
              "      <td>1.000000</td>\n",
              "      <td>7.071068e-01</td>\n",
              "    </tr>\n",
              "    <tr>\n",
              "      <th>4</th>\n",
              "      <td>0.707107</td>\n",
              "      <td>0.000000e+00</td>\n",
              "      <td>-0.707107</td>\n",
              "      <td>1.000000e+00</td>\n",
              "    </tr>\n",
              "  </tbody>\n",
              "</table>\n",
              "</div>"
            ],
            "text/plain": [
              "          A             B         C             D\n",
              "0  0.000000 -7.071068e-01 -0.707107 -1.000000e+00\n",
              "1  0.707107 -7.071068e-01  0.000000  1.224647e-16\n",
              "2  0.707107 -7.071068e-01 -0.707107  7.071068e-01\n",
              "3 -1.000000 -2.449294e-16  1.000000  7.071068e-01\n",
              "4  0.707107  0.000000e+00 -0.707107  1.000000e+00"
            ]
          },
          "metadata": {
            "tags": []
          },
          "execution_count": 20
        }
      ]
    },
    {
      "cell_type": "code",
      "metadata": {
        "colab": {
          "base_uri": "https://localhost:8080/"
        },
        "id": "AxdmdXVaabHj",
        "outputId": "67fb54f3-3f77-4863-ec4b-0331c9df9979"
      },
      "source": [
        "area = pd.Series({'Alaska': 1723337, 'Texas': 695662,\n",
        "                  'California': 423967}, name='area')\n",
        "population = pd.Series({'California': 38332521, 'Texas': 26448193,\n",
        "                        'New York': 19651127}, name='population')\n",
        "print(area)\n",
        "population\n"
      ],
      "execution_count": 21,
      "outputs": [
        {
          "output_type": "stream",
          "text": [
            "Alaska        1723337\n",
            "Texas          695662\n",
            "California     423967\n",
            "Name: area, dtype: int64\n"
          ],
          "name": "stdout"
        },
        {
          "output_type": "execute_result",
          "data": {
            "text/plain": [
              "California    38332521\n",
              "Texas         26448193\n",
              "New York      19651127\n",
              "Name: population, dtype: int64"
            ]
          },
          "metadata": {
            "tags": []
          },
          "execution_count": 21
        }
      ]
    },
    {
      "cell_type": "code",
      "metadata": {
        "colab": {
          "base_uri": "https://localhost:8080/"
        },
        "id": "Ef_TxaEDafxD",
        "outputId": "f8d967aa-cf62-406d-ffce-7b42c6764f7b"
      },
      "source": [
        "population / area"
      ],
      "execution_count": 22,
      "outputs": [
        {
          "output_type": "execute_result",
          "data": {
            "text/plain": [
              "Alaska              NaN\n",
              "California    90.413926\n",
              "New York            NaN\n",
              "Texas         38.018740\n",
              "dtype: float64"
            ]
          },
          "metadata": {
            "tags": []
          },
          "execution_count": 22
        }
      ]
    },
    {
      "cell_type": "code",
      "metadata": {
        "colab": {
          "base_uri": "https://localhost:8080/"
        },
        "id": "ZToS0vsAamIv",
        "outputId": "7e43973d-b339-4968-88c4-f77fc55a30e9"
      },
      "source": [
        "area.index | population.index"
      ],
      "execution_count": 23,
      "outputs": [
        {
          "output_type": "execute_result",
          "data": {
            "text/plain": [
              "Index(['Alaska', 'California', 'New York', 'Texas'], dtype='object')"
            ]
          },
          "metadata": {
            "tags": []
          },
          "execution_count": 23
        }
      ]
    },
    {
      "cell_type": "code",
      "metadata": {
        "colab": {
          "base_uri": "https://localhost:8080/"
        },
        "id": "zDDkSw12a7P1",
        "outputId": "815192db-54e1-44e1-a582-ffbe93a0519b"
      },
      "source": [
        "A = pd.Series([2, 4, 6], index=[0, 1, 2])\n",
        "B = pd.Series([1, 3, 5], index=[1, 2, 3])\n",
        "print(A)\n",
        "print(B)\n",
        "B\n",
        "A + B"
      ],
      "execution_count": 24,
      "outputs": [
        {
          "output_type": "stream",
          "text": [
            "0    2\n",
            "1    4\n",
            "2    6\n",
            "dtype: int64\n",
            "1    1\n",
            "2    3\n",
            "3    5\n",
            "dtype: int64\n"
          ],
          "name": "stdout"
        },
        {
          "output_type": "execute_result",
          "data": {
            "text/plain": [
              "0    NaN\n",
              "1    5.0\n",
              "2    9.0\n",
              "3    NaN\n",
              "dtype: float64"
            ]
          },
          "metadata": {
            "tags": []
          },
          "execution_count": 24
        }
      ]
    },
    {
      "cell_type": "code",
      "metadata": {
        "colab": {
          "base_uri": "https://localhost:8080/"
        },
        "id": "ezzr6R3sbD6c",
        "outputId": "c98f467f-8f5c-4dc6-8083-7070ce15bfee"
      },
      "source": [
        "A.add(B, fill_value=0)"
      ],
      "execution_count": 25,
      "outputs": [
        {
          "output_type": "execute_result",
          "data": {
            "text/plain": [
              "0    2.0\n",
              "1    5.0\n",
              "2    9.0\n",
              "3    5.0\n",
              "dtype: float64"
            ]
          },
          "metadata": {
            "tags": []
          },
          "execution_count": 25
        }
      ]
    },
    {
      "cell_type": "code",
      "metadata": {
        "colab": {
          "base_uri": "https://localhost:8080/",
          "height": 203
        },
        "id": "TgOShpKghove",
        "outputId": "d408cccb-a630-466d-c324-836faecdab30"
      },
      "source": [
        "df"
      ],
      "execution_count": 26,
      "outputs": [
        {
          "output_type": "execute_result",
          "data": {
            "text/html": [
              "<div>\n",
              "<style scoped>\n",
              "    .dataframe tbody tr th:only-of-type {\n",
              "        vertical-align: middle;\n",
              "    }\n",
              "\n",
              "    .dataframe tbody tr th {\n",
              "        vertical-align: top;\n",
              "    }\n",
              "\n",
              "    .dataframe thead th {\n",
              "        text-align: right;\n",
              "    }\n",
              "</style>\n",
              "<table border=\"1\" class=\"dataframe\">\n",
              "  <thead>\n",
              "    <tr style=\"text-align: right;\">\n",
              "      <th></th>\n",
              "      <th>Year</th>\n",
              "      <th>Province</th>\n",
              "      <th>Literacy</th>\n",
              "      <th>nonsense</th>\n",
              "      <th>Serie_aligned</th>\n",
              "    </tr>\n",
              "  </thead>\n",
              "  <tbody>\n",
              "    <tr>\n",
              "      <th>0</th>\n",
              "      <td>2013</td>\n",
              "      <td>FL</td>\n",
              "      <td>0.2</td>\n",
              "      <td>10065.000000</td>\n",
              "      <td>0</td>\n",
              "    </tr>\n",
              "    <tr>\n",
              "      <th>1</th>\n",
              "      <td>2014</td>\n",
              "      <td>FL</td>\n",
              "      <td>0.1</td>\n",
              "      <td>20140.000000</td>\n",
              "      <td>1</td>\n",
              "    </tr>\n",
              "    <tr>\n",
              "      <th>2</th>\n",
              "      <td>2013</td>\n",
              "      <td>NH</td>\n",
              "      <td>0.5</td>\n",
              "      <td>4026.000000</td>\n",
              "      <td>2</td>\n",
              "    </tr>\n",
              "    <tr>\n",
              "      <th>3</th>\n",
              "      <td>2014</td>\n",
              "      <td>NH</td>\n",
              "      <td>0.3</td>\n",
              "      <td>6713.333333</td>\n",
              "      <td>3</td>\n",
              "    </tr>\n",
              "    <tr>\n",
              "      <th>4</th>\n",
              "      <td>2014</td>\n",
              "      <td>ZH</td>\n",
              "      <td>0.5</td>\n",
              "      <td>4028.000000</td>\n",
              "      <td>4</td>\n",
              "    </tr>\n",
              "  </tbody>\n",
              "</table>\n",
              "</div>"
            ],
            "text/plain": [
              "   Year Province  Literacy      nonsense  Serie_aligned\n",
              "0  2013       FL       0.2  10065.000000              0\n",
              "1  2014       FL       0.1  20140.000000              1\n",
              "2  2013       NH       0.5   4026.000000              2\n",
              "3  2014       NH       0.3   6713.333333              3\n",
              "4  2014       ZH       0.5   4028.000000              4"
            ]
          },
          "metadata": {
            "tags": []
          },
          "execution_count": 26
        }
      ]
    },
    {
      "cell_type": "code",
      "metadata": {
        "colab": {
          "base_uri": "https://localhost:8080/",
          "height": 142
        },
        "id": "9cr9Y9snhuSg",
        "outputId": "ecd0d1aa-f836-4aef-d5e9-208851d07761"
      },
      "source": [
        "df2 = pd.DataFrame({\"Province\": [\"FL\", \"NH\", \"ZH\"], \"Population\": [\"100000\", \"200000\", \"300000\"]})\n",
        "df2"
      ],
      "execution_count": 27,
      "outputs": [
        {
          "output_type": "execute_result",
          "data": {
            "text/html": [
              "<div>\n",
              "<style scoped>\n",
              "    .dataframe tbody tr th:only-of-type {\n",
              "        vertical-align: middle;\n",
              "    }\n",
              "\n",
              "    .dataframe tbody tr th {\n",
              "        vertical-align: top;\n",
              "    }\n",
              "\n",
              "    .dataframe thead th {\n",
              "        text-align: right;\n",
              "    }\n",
              "</style>\n",
              "<table border=\"1\" class=\"dataframe\">\n",
              "  <thead>\n",
              "    <tr style=\"text-align: right;\">\n",
              "      <th></th>\n",
              "      <th>Province</th>\n",
              "      <th>Population</th>\n",
              "    </tr>\n",
              "  </thead>\n",
              "  <tbody>\n",
              "    <tr>\n",
              "      <th>0</th>\n",
              "      <td>FL</td>\n",
              "      <td>100000</td>\n",
              "    </tr>\n",
              "    <tr>\n",
              "      <th>1</th>\n",
              "      <td>NH</td>\n",
              "      <td>200000</td>\n",
              "    </tr>\n",
              "    <tr>\n",
              "      <th>2</th>\n",
              "      <td>ZH</td>\n",
              "      <td>300000</td>\n",
              "    </tr>\n",
              "  </tbody>\n",
              "</table>\n",
              "</div>"
            ],
            "text/plain": [
              "  Province Population\n",
              "0       FL     100000\n",
              "1       NH     200000\n",
              "2       ZH     300000"
            ]
          },
          "metadata": {
            "tags": []
          },
          "execution_count": 27
        }
      ]
    },
    {
      "cell_type": "code",
      "metadata": {
        "colab": {
          "base_uri": "https://localhost:8080/",
          "height": 203
        },
        "id": "S9RxjCpYh3V9",
        "outputId": "00440da1-f6a6-4922-c804-36aa17a632b5"
      },
      "source": [
        "df.merge(df2)"
      ],
      "execution_count": 28,
      "outputs": [
        {
          "output_type": "execute_result",
          "data": {
            "text/html": [
              "<div>\n",
              "<style scoped>\n",
              "    .dataframe tbody tr th:only-of-type {\n",
              "        vertical-align: middle;\n",
              "    }\n",
              "\n",
              "    .dataframe tbody tr th {\n",
              "        vertical-align: top;\n",
              "    }\n",
              "\n",
              "    .dataframe thead th {\n",
              "        text-align: right;\n",
              "    }\n",
              "</style>\n",
              "<table border=\"1\" class=\"dataframe\">\n",
              "  <thead>\n",
              "    <tr style=\"text-align: right;\">\n",
              "      <th></th>\n",
              "      <th>Year</th>\n",
              "      <th>Province</th>\n",
              "      <th>Literacy</th>\n",
              "      <th>nonsense</th>\n",
              "      <th>Serie_aligned</th>\n",
              "      <th>Population</th>\n",
              "    </tr>\n",
              "  </thead>\n",
              "  <tbody>\n",
              "    <tr>\n",
              "      <th>0</th>\n",
              "      <td>2013</td>\n",
              "      <td>FL</td>\n",
              "      <td>0.2</td>\n",
              "      <td>10065.000000</td>\n",
              "      <td>0</td>\n",
              "      <td>100000</td>\n",
              "    </tr>\n",
              "    <tr>\n",
              "      <th>1</th>\n",
              "      <td>2014</td>\n",
              "      <td>FL</td>\n",
              "      <td>0.1</td>\n",
              "      <td>20140.000000</td>\n",
              "      <td>1</td>\n",
              "      <td>100000</td>\n",
              "    </tr>\n",
              "    <tr>\n",
              "      <th>2</th>\n",
              "      <td>2013</td>\n",
              "      <td>NH</td>\n",
              "      <td>0.5</td>\n",
              "      <td>4026.000000</td>\n",
              "      <td>2</td>\n",
              "      <td>200000</td>\n",
              "    </tr>\n",
              "    <tr>\n",
              "      <th>3</th>\n",
              "      <td>2014</td>\n",
              "      <td>NH</td>\n",
              "      <td>0.3</td>\n",
              "      <td>6713.333333</td>\n",
              "      <td>3</td>\n",
              "      <td>200000</td>\n",
              "    </tr>\n",
              "    <tr>\n",
              "      <th>4</th>\n",
              "      <td>2014</td>\n",
              "      <td>ZH</td>\n",
              "      <td>0.5</td>\n",
              "      <td>4028.000000</td>\n",
              "      <td>4</td>\n",
              "      <td>300000</td>\n",
              "    </tr>\n",
              "  </tbody>\n",
              "</table>\n",
              "</div>"
            ],
            "text/plain": [
              "   Year Province  Literacy      nonsense  Serie_aligned Population\n",
              "0  2013       FL       0.2  10065.000000              0     100000\n",
              "1  2014       FL       0.1  20140.000000              1     100000\n",
              "2  2013       NH       0.5   4026.000000              2     200000\n",
              "3  2014       NH       0.3   6713.333333              3     200000\n",
              "4  2014       ZH       0.5   4028.000000              4     300000"
            ]
          },
          "metadata": {
            "tags": []
          },
          "execution_count": 28
        }
      ]
    },
    {
      "cell_type": "code",
      "metadata": {
        "colab": {
          "base_uri": "https://localhost:8080/",
          "height": 172
        },
        "id": "e2YeCoQKiIsz",
        "outputId": "d01c7655-5037-46cb-9294-7f1e8af4f946"
      },
      "source": [
        "df3 = pd.DataFrame({\"province\": [\"FL\", \"NH\"], \"Population\": [\"100000\", \"200000\"]})\n",
        "df3\n",
        "df.merge(df3, right_on='province', left_on='Province')"
      ],
      "execution_count": 29,
      "outputs": [
        {
          "output_type": "execute_result",
          "data": {
            "text/html": [
              "<div>\n",
              "<style scoped>\n",
              "    .dataframe tbody tr th:only-of-type {\n",
              "        vertical-align: middle;\n",
              "    }\n",
              "\n",
              "    .dataframe tbody tr th {\n",
              "        vertical-align: top;\n",
              "    }\n",
              "\n",
              "    .dataframe thead th {\n",
              "        text-align: right;\n",
              "    }\n",
              "</style>\n",
              "<table border=\"1\" class=\"dataframe\">\n",
              "  <thead>\n",
              "    <tr style=\"text-align: right;\">\n",
              "      <th></th>\n",
              "      <th>Year</th>\n",
              "      <th>Province</th>\n",
              "      <th>Literacy</th>\n",
              "      <th>nonsense</th>\n",
              "      <th>Serie_aligned</th>\n",
              "      <th>province</th>\n",
              "      <th>Population</th>\n",
              "    </tr>\n",
              "  </thead>\n",
              "  <tbody>\n",
              "    <tr>\n",
              "      <th>0</th>\n",
              "      <td>2013</td>\n",
              "      <td>FL</td>\n",
              "      <td>0.2</td>\n",
              "      <td>10065.000000</td>\n",
              "      <td>0</td>\n",
              "      <td>FL</td>\n",
              "      <td>100000</td>\n",
              "    </tr>\n",
              "    <tr>\n",
              "      <th>1</th>\n",
              "      <td>2014</td>\n",
              "      <td>FL</td>\n",
              "      <td>0.1</td>\n",
              "      <td>20140.000000</td>\n",
              "      <td>1</td>\n",
              "      <td>FL</td>\n",
              "      <td>100000</td>\n",
              "    </tr>\n",
              "    <tr>\n",
              "      <th>2</th>\n",
              "      <td>2013</td>\n",
              "      <td>NH</td>\n",
              "      <td>0.5</td>\n",
              "      <td>4026.000000</td>\n",
              "      <td>2</td>\n",
              "      <td>NH</td>\n",
              "      <td>200000</td>\n",
              "    </tr>\n",
              "    <tr>\n",
              "      <th>3</th>\n",
              "      <td>2014</td>\n",
              "      <td>NH</td>\n",
              "      <td>0.3</td>\n",
              "      <td>6713.333333</td>\n",
              "      <td>3</td>\n",
              "      <td>NH</td>\n",
              "      <td>200000</td>\n",
              "    </tr>\n",
              "  </tbody>\n",
              "</table>\n",
              "</div>"
            ],
            "text/plain": [
              "   Year Province  Literacy      nonsense  Serie_aligned province Population\n",
              "0  2013       FL       0.2  10065.000000              0       FL     100000\n",
              "1  2014       FL       0.1  20140.000000              1       FL     100000\n",
              "2  2013       NH       0.5   4026.000000              2       NH     200000\n",
              "3  2014       NH       0.3   6713.333333              3       NH     200000"
            ]
          },
          "metadata": {
            "tags": []
          },
          "execution_count": 29
        }
      ]
    },
    {
      "cell_type": "code",
      "metadata": {
        "colab": {
          "base_uri": "https://localhost:8080/",
          "height": 234
        },
        "id": "sHY9WIEUiPC5",
        "outputId": "5e32eef9-4a5a-4e65-d284-13eb6e5e1285"
      },
      "source": [
        "df4 = pd.DataFrame({\"Province\": [\"FL\", \"NH\", \"UT\"], \"Population\": [\"100000\", \"200000\", \"50000\"]})\n",
        "df.merge(df4, how='outer')"
      ],
      "execution_count": 30,
      "outputs": [
        {
          "output_type": "execute_result",
          "data": {
            "text/html": [
              "<div>\n",
              "<style scoped>\n",
              "    .dataframe tbody tr th:only-of-type {\n",
              "        vertical-align: middle;\n",
              "    }\n",
              "\n",
              "    .dataframe tbody tr th {\n",
              "        vertical-align: top;\n",
              "    }\n",
              "\n",
              "    .dataframe thead th {\n",
              "        text-align: right;\n",
              "    }\n",
              "</style>\n",
              "<table border=\"1\" class=\"dataframe\">\n",
              "  <thead>\n",
              "    <tr style=\"text-align: right;\">\n",
              "      <th></th>\n",
              "      <th>Year</th>\n",
              "      <th>Province</th>\n",
              "      <th>Literacy</th>\n",
              "      <th>nonsense</th>\n",
              "      <th>Serie_aligned</th>\n",
              "      <th>Population</th>\n",
              "    </tr>\n",
              "  </thead>\n",
              "  <tbody>\n",
              "    <tr>\n",
              "      <th>0</th>\n",
              "      <td>2013.0</td>\n",
              "      <td>FL</td>\n",
              "      <td>0.2</td>\n",
              "      <td>10065.000000</td>\n",
              "      <td>0.0</td>\n",
              "      <td>100000</td>\n",
              "    </tr>\n",
              "    <tr>\n",
              "      <th>1</th>\n",
              "      <td>2014.0</td>\n",
              "      <td>FL</td>\n",
              "      <td>0.1</td>\n",
              "      <td>20140.000000</td>\n",
              "      <td>1.0</td>\n",
              "      <td>100000</td>\n",
              "    </tr>\n",
              "    <tr>\n",
              "      <th>2</th>\n",
              "      <td>2013.0</td>\n",
              "      <td>NH</td>\n",
              "      <td>0.5</td>\n",
              "      <td>4026.000000</td>\n",
              "      <td>2.0</td>\n",
              "      <td>200000</td>\n",
              "    </tr>\n",
              "    <tr>\n",
              "      <th>3</th>\n",
              "      <td>2014.0</td>\n",
              "      <td>NH</td>\n",
              "      <td>0.3</td>\n",
              "      <td>6713.333333</td>\n",
              "      <td>3.0</td>\n",
              "      <td>200000</td>\n",
              "    </tr>\n",
              "    <tr>\n",
              "      <th>4</th>\n",
              "      <td>2014.0</td>\n",
              "      <td>ZH</td>\n",
              "      <td>0.5</td>\n",
              "      <td>4028.000000</td>\n",
              "      <td>4.0</td>\n",
              "      <td>NaN</td>\n",
              "    </tr>\n",
              "    <tr>\n",
              "      <th>5</th>\n",
              "      <td>NaN</td>\n",
              "      <td>UT</td>\n",
              "      <td>NaN</td>\n",
              "      <td>NaN</td>\n",
              "      <td>NaN</td>\n",
              "      <td>50000</td>\n",
              "    </tr>\n",
              "  </tbody>\n",
              "</table>\n",
              "</div>"
            ],
            "text/plain": [
              "     Year Province  Literacy      nonsense  Serie_aligned Population\n",
              "0  2013.0       FL       0.2  10065.000000            0.0     100000\n",
              "1  2014.0       FL       0.1  20140.000000            1.0     100000\n",
              "2  2013.0       NH       0.5   4026.000000            2.0     200000\n",
              "3  2014.0       NH       0.3   6713.333333            3.0     200000\n",
              "4  2014.0       ZH       0.5   4028.000000            4.0        NaN\n",
              "5     NaN       UT       NaN           NaN            NaN      50000"
            ]
          },
          "metadata": {
            "tags": []
          },
          "execution_count": 30
        }
      ]
    },
    {
      "cell_type": "code",
      "metadata": {
        "colab": {
          "base_uri": "https://localhost:8080/",
          "height": 366
        },
        "id": "I-LelPIjiTiH",
        "outputId": "d2367bd1-874e-4810-b3f2-34498d8f15b0"
      },
      "source": [
        "df5 = pd.DataFrame({\"Province\": [\"FL\", \"NH\", \"FL\"], \"Population\": [\"100000\", \"200000\", \"50000\"]})\n",
        "print(df)\n",
        "df.merge(df5, how='outer')"
      ],
      "execution_count": 31,
      "outputs": [
        {
          "output_type": "stream",
          "text": [
            "   Year Province  Literacy      nonsense  Serie_aligned\n",
            "0  2013       FL       0.2  10065.000000              0\n",
            "1  2014       FL       0.1  20140.000000              1\n",
            "2  2013       NH       0.5   4026.000000              2\n",
            "3  2014       NH       0.3   6713.333333              3\n",
            "4  2014       ZH       0.5   4028.000000              4\n"
          ],
          "name": "stdout"
        },
        {
          "output_type": "execute_result",
          "data": {
            "text/html": [
              "<div>\n",
              "<style scoped>\n",
              "    .dataframe tbody tr th:only-of-type {\n",
              "        vertical-align: middle;\n",
              "    }\n",
              "\n",
              "    .dataframe tbody tr th {\n",
              "        vertical-align: top;\n",
              "    }\n",
              "\n",
              "    .dataframe thead th {\n",
              "        text-align: right;\n",
              "    }\n",
              "</style>\n",
              "<table border=\"1\" class=\"dataframe\">\n",
              "  <thead>\n",
              "    <tr style=\"text-align: right;\">\n",
              "      <th></th>\n",
              "      <th>Year</th>\n",
              "      <th>Province</th>\n",
              "      <th>Literacy</th>\n",
              "      <th>nonsense</th>\n",
              "      <th>Serie_aligned</th>\n",
              "      <th>Population</th>\n",
              "    </tr>\n",
              "  </thead>\n",
              "  <tbody>\n",
              "    <tr>\n",
              "      <th>0</th>\n",
              "      <td>2013</td>\n",
              "      <td>FL</td>\n",
              "      <td>0.2</td>\n",
              "      <td>10065.000000</td>\n",
              "      <td>0</td>\n",
              "      <td>100000</td>\n",
              "    </tr>\n",
              "    <tr>\n",
              "      <th>1</th>\n",
              "      <td>2013</td>\n",
              "      <td>FL</td>\n",
              "      <td>0.2</td>\n",
              "      <td>10065.000000</td>\n",
              "      <td>0</td>\n",
              "      <td>50000</td>\n",
              "    </tr>\n",
              "    <tr>\n",
              "      <th>2</th>\n",
              "      <td>2014</td>\n",
              "      <td>FL</td>\n",
              "      <td>0.1</td>\n",
              "      <td>20140.000000</td>\n",
              "      <td>1</td>\n",
              "      <td>100000</td>\n",
              "    </tr>\n",
              "    <tr>\n",
              "      <th>3</th>\n",
              "      <td>2014</td>\n",
              "      <td>FL</td>\n",
              "      <td>0.1</td>\n",
              "      <td>20140.000000</td>\n",
              "      <td>1</td>\n",
              "      <td>50000</td>\n",
              "    </tr>\n",
              "    <tr>\n",
              "      <th>4</th>\n",
              "      <td>2013</td>\n",
              "      <td>NH</td>\n",
              "      <td>0.5</td>\n",
              "      <td>4026.000000</td>\n",
              "      <td>2</td>\n",
              "      <td>200000</td>\n",
              "    </tr>\n",
              "    <tr>\n",
              "      <th>5</th>\n",
              "      <td>2014</td>\n",
              "      <td>NH</td>\n",
              "      <td>0.3</td>\n",
              "      <td>6713.333333</td>\n",
              "      <td>3</td>\n",
              "      <td>200000</td>\n",
              "    </tr>\n",
              "    <tr>\n",
              "      <th>6</th>\n",
              "      <td>2014</td>\n",
              "      <td>ZH</td>\n",
              "      <td>0.5</td>\n",
              "      <td>4028.000000</td>\n",
              "      <td>4</td>\n",
              "      <td>NaN</td>\n",
              "    </tr>\n",
              "  </tbody>\n",
              "</table>\n",
              "</div>"
            ],
            "text/plain": [
              "   Year Province  Literacy      nonsense  Serie_aligned Population\n",
              "0  2013       FL       0.2  10065.000000              0     100000\n",
              "1  2013       FL       0.2  10065.000000              0      50000\n",
              "2  2014       FL       0.1  20140.000000              1     100000\n",
              "3  2014       FL       0.1  20140.000000              1      50000\n",
              "4  2013       NH       0.5   4026.000000              2     200000\n",
              "5  2014       NH       0.3   6713.333333              3     200000\n",
              "6  2014       ZH       0.5   4028.000000              4        NaN"
            ]
          },
          "metadata": {
            "tags": []
          },
          "execution_count": 31
        }
      ]
    },
    {
      "cell_type": "code",
      "metadata": {
        "id": "2ZWvCQzYifbP"
      },
      "source": [
        "serie_a = pd.Series([np.nan, 2.5, np.nan, 3.5, 4.5, np.nan],\n",
        "                     index=['f', 'e', 'd', 'c', 'b', 'a'])\n",
        "serie_b = pd.Series(np.arange(len(serie_a), dtype=np.float64),\n",
        "                 index=['f', 'e', 'd', 'c', 'b', 'a'])"
      ],
      "execution_count": 32,
      "outputs": []
    },
    {
      "cell_type": "code",
      "metadata": {
        "colab": {
          "base_uri": "https://localhost:8080/"
        },
        "id": "IU5emMolikQz",
        "outputId": "f16e4ecd-175b-4cd8-c4df-956c4474650b"
      },
      "source": [
        "serie_a"
      ],
      "execution_count": 33,
      "outputs": [
        {
          "output_type": "execute_result",
          "data": {
            "text/plain": [
              "f    NaN\n",
              "e    2.5\n",
              "d    NaN\n",
              "c    3.5\n",
              "b    4.5\n",
              "a    NaN\n",
              "dtype: float64"
            ]
          },
          "metadata": {
            "tags": []
          },
          "execution_count": 33
        }
      ]
    },
    {
      "cell_type": "code",
      "metadata": {
        "colab": {
          "base_uri": "https://localhost:8080/"
        },
        "id": "bU6n5MK1in6x",
        "outputId": "ed9a968c-e12c-41ba-c4fb-85dfe881670c"
      },
      "source": [
        "serie_b"
      ],
      "execution_count": 34,
      "outputs": [
        {
          "output_type": "execute_result",
          "data": {
            "text/plain": [
              "f    0.0\n",
              "e    1.0\n",
              "d    2.0\n",
              "c    3.0\n",
              "b    4.0\n",
              "a    5.0\n",
              "dtype: float64"
            ]
          },
          "metadata": {
            "tags": []
          },
          "execution_count": 34
        }
      ]
    },
    {
      "cell_type": "code",
      "metadata": {
        "colab": {
          "base_uri": "https://localhost:8080/"
        },
        "id": "TcKCMo68iyyY",
        "outputId": "a1c498f7-c65a-424e-b18a-d70e186a99ee"
      },
      "source": [
        "pd.Series(np.where(pd.isnull(serie_a), serie_b, serie_a), index=serie_a.index)"
      ],
      "execution_count": 35,
      "outputs": [
        {
          "output_type": "execute_result",
          "data": {
            "text/plain": [
              "f    0.0\n",
              "e    2.5\n",
              "d    2.0\n",
              "c    3.5\n",
              "b    4.5\n",
              "a    5.0\n",
              "dtype: float64"
            ]
          },
          "metadata": {
            "tags": []
          },
          "execution_count": 35
        }
      ]
    },
    {
      "cell_type": "code",
      "metadata": {
        "colab": {
          "base_uri": "https://localhost:8080/"
        },
        "id": "ES5T7bafi6Lr",
        "outputId": "7632d09a-3d95-462f-bb86-a5572ed77ec3"
      },
      "source": [
        "serie_a.combine_first(serie_b)"
      ],
      "execution_count": 36,
      "outputs": [
        {
          "output_type": "execute_result",
          "data": {
            "text/plain": [
              "f    0.0\n",
              "e    2.5\n",
              "d    2.0\n",
              "c    3.5\n",
              "b    4.5\n",
              "a    5.0\n",
              "dtype: float64"
            ]
          },
          "metadata": {
            "tags": []
          },
          "execution_count": 36
        }
      ]
    },
    {
      "cell_type": "code",
      "metadata": {
        "id": "7xtRlWx1jAfv"
      },
      "source": [
        "\n"
      ],
      "execution_count": 36,
      "outputs": []
    }
  ]
}